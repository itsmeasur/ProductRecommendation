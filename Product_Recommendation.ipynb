{
  "nbformat": 4,
  "nbformat_minor": 0,
  "metadata": {
    "colab": {
      "name": "Product Recommendation.ipynb",
      "provenance": [],
      "collapsed_sections": [],
      "toc_visible": true
    },
    "kernelspec": {
      "name": "python3",
      "display_name": "Python 3"
    },
    "language_info": {
      "name": "python"
    }
  },
  "cells": [
    {
      "cell_type": "markdown",
      "metadata": {
        "id": "q2MyOhFG78ir"
      },
      "source": [
        "# **Product recommendation System for E-commerce Websites**"
      ]
    },
    {
      "cell_type": "markdown",
      "metadata": {
        "id": "x2UksEJQ_hiD"
      },
      "source": [
        "# Importing Neccesary Libraries"
      ]
    },
    {
      "cell_type": "code",
      "metadata": {
        "id": "4erBHgsh9tzW"
      },
      "source": [
        "import pandas as pd\n",
        "import numpy as np\n",
        "import matplotlib.pyplot as plt\n",
        "import seaborn as sns\n",
        "from collections import defaultdict\n",
        "\n",
        "import warnings\n",
        "\n",
        "warnings.filterwarnings('ignore')\n",
        "%matplotlib inline"
      ],
      "execution_count": 1,
      "outputs": []
    },
    {
      "cell_type": "code",
      "metadata": {
        "colab": {
          "base_uri": "https://localhost:8080/"
        },
        "id": "LLVwbjNBBLvj",
        "outputId": "0521e39c-5da6-418e-bac6-47760e26d8ac"
      },
      "source": [
        "pip install surprise"
      ],
      "execution_count": 2,
      "outputs": [
        {
          "output_type": "stream",
          "text": [
            "Collecting surprise\n",
            "  Downloading https://files.pythonhosted.org/packages/61/de/e5cba8682201fcf9c3719a6fdda95693468ed061945493dea2dd37c5618b/surprise-0.1-py2.py3-none-any.whl\n",
            "Collecting scikit-surprise\n",
            "\u001b[?25l  Downloading https://files.pythonhosted.org/packages/97/37/5d334adaf5ddd65da99fc65f6507e0e4599d092ba048f4302fe8775619e8/scikit-surprise-1.1.1.tar.gz (11.8MB)\n",
            "\u001b[K     |████████████████████████████████| 11.8MB 195kB/s \n",
            "\u001b[?25hRequirement already satisfied: joblib>=0.11 in /usr/local/lib/python3.7/dist-packages (from scikit-surprise->surprise) (1.0.1)\n",
            "Requirement already satisfied: numpy>=1.11.2 in /usr/local/lib/python3.7/dist-packages (from scikit-surprise->surprise) (1.19.5)\n",
            "Requirement already satisfied: scipy>=1.0.0 in /usr/local/lib/python3.7/dist-packages (from scikit-surprise->surprise) (1.4.1)\n",
            "Requirement already satisfied: six>=1.10.0 in /usr/local/lib/python3.7/dist-packages (from scikit-surprise->surprise) (1.15.0)\n",
            "Building wheels for collected packages: scikit-surprise\n",
            "  Building wheel for scikit-surprise (setup.py) ... \u001b[?25l\u001b[?25hdone\n",
            "  Created wheel for scikit-surprise: filename=scikit_surprise-1.1.1-cp37-cp37m-linux_x86_64.whl size=1617642 sha256=782ab2ae40aaf88b543279d1a0edfba2387655b9907c7de6ece565c148e90549\n",
            "  Stored in directory: /root/.cache/pip/wheels/78/9c/3d/41b419c9d2aff5b6e2b4c0fc8d25c538202834058f9ed110d0\n",
            "Successfully built scikit-surprise\n",
            "Installing collected packages: scikit-surprise, surprise\n",
            "Successfully installed scikit-surprise-1.1.1 surprise-0.1\n"
          ],
          "name": "stdout"
        }
      ]
    },
    {
      "cell_type": "code",
      "metadata": {
        "id": "muOj3KRH_xj8"
      },
      "source": [
        "from surprise import KNNBasic, SVD, NormalPredictor, KNNBaseline,KNNWithMeans, KNNWithZScore, BaselineOnly, CoClustering, Reader, dataset, accuracy"
      ],
      "execution_count": 3,
      "outputs": []
    },
    {
      "cell_type": "markdown",
      "metadata": {
        "id": "eGOxtfFU_cju"
      },
      "source": [
        "# Reading, visualising and Pre processing Dataset"
      ]
    },
    {
      "cell_type": "code",
      "metadata": {
        "id": "mkJUHW0o_yZr"
      },
      "source": [
        "columns = ['userID', 'productID', 'ratings','timestamp']\n",
        "\n",
        "recomm_df = pd.read_csv('/content/drive/MyDrive/Project/ratings_Cell_Phones_and_Accessories.csv',names=columns)"
      ],
      "execution_count": 4,
      "outputs": []
    },
    {
      "cell_type": "code",
      "metadata": {
        "colab": {
          "base_uri": "https://localhost:8080/"
        },
        "id": "LuTu0xyv_197",
        "outputId": "7c02bc96-ad04-4914-c8b0-beab56cf51f5"
      },
      "source": [
        "recomm_df.info()"
      ],
      "execution_count": 5,
      "outputs": [
        {
          "output_type": "stream",
          "text": [
            "<class 'pandas.core.frame.DataFrame'>\n",
            "RangeIndex: 3447249 entries, 0 to 3447248\n",
            "Data columns (total 4 columns):\n",
            " #   Column     Dtype  \n",
            "---  ------     -----  \n",
            " 0   userID     object \n",
            " 1   productID  object \n",
            " 2   ratings    float64\n",
            " 3   timestamp  int64  \n",
            "dtypes: float64(1), int64(1), object(2)\n",
            "memory usage: 105.2+ MB\n"
          ],
          "name": "stdout"
        }
      ]
    },
    {
      "cell_type": "code",
      "metadata": {
        "colab": {
          "base_uri": "https://localhost:8080/",
          "height": 203
        },
        "id": "Uzt9suwY_5Dj",
        "outputId": "4c8a9d4c-c29e-41ec-981e-845814967fa5"
      },
      "source": [
        "recomm_df.head()"
      ],
      "execution_count": 6,
      "outputs": [
        {
          "output_type": "execute_result",
          "data": {
            "text/html": [
              "<div>\n",
              "<style scoped>\n",
              "    .dataframe tbody tr th:only-of-type {\n",
              "        vertical-align: middle;\n",
              "    }\n",
              "\n",
              "    .dataframe tbody tr th {\n",
              "        vertical-align: top;\n",
              "    }\n",
              "\n",
              "    .dataframe thead th {\n",
              "        text-align: right;\n",
              "    }\n",
              "</style>\n",
              "<table border=\"1\" class=\"dataframe\">\n",
              "  <thead>\n",
              "    <tr style=\"text-align: right;\">\n",
              "      <th></th>\n",
              "      <th>userID</th>\n",
              "      <th>productID</th>\n",
              "      <th>ratings</th>\n",
              "      <th>timestamp</th>\n",
              "    </tr>\n",
              "  </thead>\n",
              "  <tbody>\n",
              "    <tr>\n",
              "      <th>0</th>\n",
              "      <td>A1EWN6KZ4HMLT7</td>\n",
              "      <td>011040047X</td>\n",
              "      <td>1.0</td>\n",
              "      <td>1344902400</td>\n",
              "    </tr>\n",
              "    <tr>\n",
              "      <th>1</th>\n",
              "      <td>A1YX2RBMS1L9L</td>\n",
              "      <td>0110400550</td>\n",
              "      <td>5.0</td>\n",
              "      <td>1353542400</td>\n",
              "    </tr>\n",
              "    <tr>\n",
              "      <th>2</th>\n",
              "      <td>A180NNPPKWCCU0</td>\n",
              "      <td>0110400550</td>\n",
              "      <td>5.0</td>\n",
              "      <td>1374105600</td>\n",
              "    </tr>\n",
              "    <tr>\n",
              "      <th>3</th>\n",
              "      <td>A3HVRXV0LVJN7</td>\n",
              "      <td>0110400550</td>\n",
              "      <td>5.0</td>\n",
              "      <td>1358035200</td>\n",
              "    </tr>\n",
              "    <tr>\n",
              "      <th>4</th>\n",
              "      <td>A292527VPX98P8</td>\n",
              "      <td>0110400550</td>\n",
              "      <td>1.0</td>\n",
              "      <td>1353888000</td>\n",
              "    </tr>\n",
              "  </tbody>\n",
              "</table>\n",
              "</div>"
            ],
            "text/plain": [
              "           userID   productID  ratings   timestamp\n",
              "0  A1EWN6KZ4HMLT7  011040047X      1.0  1344902400\n",
              "1   A1YX2RBMS1L9L  0110400550      5.0  1353542400\n",
              "2  A180NNPPKWCCU0  0110400550      5.0  1374105600\n",
              "3   A3HVRXV0LVJN7  0110400550      5.0  1358035200\n",
              "4  A292527VPX98P8  0110400550      1.0  1353888000"
            ]
          },
          "metadata": {
            "tags": []
          },
          "execution_count": 6
        }
      ]
    },
    {
      "cell_type": "code",
      "metadata": {
        "colab": {
          "base_uri": "https://localhost:8080/"
        },
        "id": "I0NNdqkT_7GM",
        "outputId": "811e99b2-f796-45cd-b3aa-fadf7a9e0746"
      },
      "source": [
        "recomm_df.shape"
      ],
      "execution_count": 7,
      "outputs": [
        {
          "output_type": "execute_result",
          "data": {
            "text/plain": [
              "(3447249, 4)"
            ]
          },
          "metadata": {
            "tags": []
          },
          "execution_count": 7
        }
      ]
    },
    {
      "cell_type": "code",
      "metadata": {
        "colab": {
          "base_uri": "https://localhost:8080/",
          "height": 110
        },
        "id": "tnu7ANKu_9ej",
        "outputId": "a15a4eb8-6145-496b-9dae-43489de54421"
      },
      "source": [
        "recomm_df.describe().T"
      ],
      "execution_count": 8,
      "outputs": [
        {
          "output_type": "execute_result",
          "data": {
            "text/html": [
              "<div>\n",
              "<style scoped>\n",
              "    .dataframe tbody tr th:only-of-type {\n",
              "        vertical-align: middle;\n",
              "    }\n",
              "\n",
              "    .dataframe tbody tr th {\n",
              "        vertical-align: top;\n",
              "    }\n",
              "\n",
              "    .dataframe thead th {\n",
              "        text-align: right;\n",
              "    }\n",
              "</style>\n",
              "<table border=\"1\" class=\"dataframe\">\n",
              "  <thead>\n",
              "    <tr style=\"text-align: right;\">\n",
              "      <th></th>\n",
              "      <th>count</th>\n",
              "      <th>mean</th>\n",
              "      <th>std</th>\n",
              "      <th>min</th>\n",
              "      <th>25%</th>\n",
              "      <th>50%</th>\n",
              "      <th>75%</th>\n",
              "      <th>max</th>\n",
              "    </tr>\n",
              "  </thead>\n",
              "  <tbody>\n",
              "    <tr>\n",
              "      <th>ratings</th>\n",
              "      <td>3447249.0</td>\n",
              "      <td>3.811271e+00</td>\n",
              "      <td>1.470037e+00</td>\n",
              "      <td>1.0</td>\n",
              "      <td>3.000000e+00</td>\n",
              "      <td>4.000000e+00</td>\n",
              "      <td>5.000000e+00</td>\n",
              "      <td>5.000000e+00</td>\n",
              "    </tr>\n",
              "    <tr>\n",
              "      <th>timestamp</th>\n",
              "      <td>3447249.0</td>\n",
              "      <td>1.364355e+09</td>\n",
              "      <td>4.125791e+07</td>\n",
              "      <td>942796800.0</td>\n",
              "      <td>1.355098e+09</td>\n",
              "      <td>1.374365e+09</td>\n",
              "      <td>1.391299e+09</td>\n",
              "      <td>1.406074e+09</td>\n",
              "    </tr>\n",
              "  </tbody>\n",
              "</table>\n",
              "</div>"
            ],
            "text/plain": [
              "               count          mean  ...           75%           max\n",
              "ratings    3447249.0  3.811271e+00  ...  5.000000e+00  5.000000e+00\n",
              "timestamp  3447249.0  1.364355e+09  ...  1.391299e+09  1.406074e+09\n",
              "\n",
              "[2 rows x 8 columns]"
            ]
          },
          "metadata": {
            "tags": []
          },
          "execution_count": 8
        }
      ]
    },
    {
      "cell_type": "code",
      "metadata": {
        "id": "ihfJaWL9__4S"
      },
      "source": [
        "recomm_df = recomm_df.drop('timestamp', axis=1)"
      ],
      "execution_count": 9,
      "outputs": []
    },
    {
      "cell_type": "code",
      "metadata": {
        "colab": {
          "base_uri": "https://localhost:8080/"
        },
        "id": "1Stzd875AD57",
        "outputId": "768d5328-042f-46e5-df2a-25f8e57cec5a"
      },
      "source": [
        "recomm_df.isna().sum()"
      ],
      "execution_count": 10,
      "outputs": [
        {
          "output_type": "execute_result",
          "data": {
            "text/plain": [
              "userID       0\n",
              "productID    0\n",
              "ratings      0\n",
              "dtype: int64"
            ]
          },
          "metadata": {
            "tags": []
          },
          "execution_count": 10
        }
      ]
    },
    {
      "cell_type": "code",
      "metadata": {
        "colab": {
          "base_uri": "https://localhost:8080/"
        },
        "id": "6TO8iUJuBoBT",
        "outputId": "d0e293c9-f98d-4f90-9a55-c220f9658cd6"
      },
      "source": [
        "recomm_df.shape"
      ],
      "execution_count": 11,
      "outputs": [
        {
          "output_type": "execute_result",
          "data": {
            "text/plain": [
              "(3447249, 3)"
            ]
          },
          "metadata": {
            "tags": []
          },
          "execution_count": 11
        }
      ]
    },
    {
      "cell_type": "code",
      "metadata": {
        "colab": {
          "base_uri": "https://localhost:8080/",
          "height": 314
        },
        "id": "73N_QOtCBqe6",
        "outputId": "891c7e2b-dc51-4b61-bb66-eabee07bf49d"
      },
      "source": [
        "recomm_df.hist('ratings',bins = 10)"
      ],
      "execution_count": 12,
      "outputs": [
        {
          "output_type": "execute_result",
          "data": {
            "text/plain": [
              "array([[<matplotlib.axes._subplots.AxesSubplot object at 0x7f0638d25d90>]],\n",
              "      dtype=object)"
            ]
          },
          "metadata": {
            "tags": []
          },
          "execution_count": 12
        },
        {
          "output_type": "display_data",
          "data": {
            "image/png": "[encoded data removed]",
            "text/plain": [
              "<Figure size 432x288 with 1 Axes>"
            ]
          },
          "metadata": {
            "tags": [],
            "needs_background": "light"
          }
        }
      ]
    },
    {
      "cell_type": "code",
      "metadata": {
        "colab": {
          "base_uri": "https://localhost:8080/",
          "height": 576
        },
        "id": "Rrubq_eJBsvy",
        "outputId": "ac0970a7-5e1e-4337-f54c-d82908acc8cb"
      },
      "source": [
        "popular = recomm_df[['userID','ratings']].groupby('userID').sum().reset_index()\n",
        "popular_20 = popular.sort_values('ratings', ascending=False).head(n=20)\n",
        "import matplotlib.pyplot as plt; plt.rcdefaults()\n",
        "import numpy as np\n",
        "import matplotlib.pyplot as plt\n",
        " \n",
        "objects = (list(popular_20['userID']))\n",
        "y_pos = np.arange(len(objects))\n",
        "performance = list(popular_20['ratings'])\n",
        " \n",
        "plt.bar(y_pos, performance, align='center', alpha=0.5)\n",
        "plt.xticks(y_pos, objects, rotation='vertical')\n",
        "plt.ylabel('userID')\n",
        "plt.title('Most popular')\n",
        " \n",
        "plt.show()"
      ],
      "execution_count": 13,
      "outputs": [
        {
          "output_type": "display_data",
          "data": {
            "image/png": "[encoded data removed]",
            "text/plain": [
              "<Figure size 640x480 with 1 Axes>"
            ]
          },
          "metadata": {
            "tags": []
          }
        }
      ]
    },
    {
      "cell_type": "code",
      "metadata": {
        "colab": {
          "base_uri": "https://localhost:8080/"
        },
        "id": "_XX2bOvuBy_6",
        "outputId": "7a0f8748-fae6-449f-cf12-c0dc8b1805c2"
      },
      "source": [
        "# find unique users\n",
        "recomm_df.userID.value_counts()"
      ],
      "execution_count": 14,
      "outputs": [
        {
          "output_type": "execute_result",
          "data": {
            "text/plain": [
              "A2NYK9KWFMJV4Y    211\n",
              "A2NOW4U7W3F7RI    187\n",
              "A22CW0ZHY3NJH8    181\n",
              "ABDR6IJ93HFIO     177\n",
              "A2LTYEYGKBYXRR    169\n",
              "                 ... \n",
              "A2ESWX8CNNHP36      1\n",
              "ABBLFO5E2GJCA       1\n",
              "A2SBH21GTETPFC      1\n",
              "A3OZ8SHRYZOHPB      1\n",
              "AIISBEVDEUAUN       1\n",
              "Name: userID, Length: 2261045, dtype: int64"
            ]
          },
          "metadata": {
            "tags": []
          },
          "execution_count": 14
        }
      ]
    },
    {
      "cell_type": "code",
      "metadata": {
        "colab": {
          "base_uri": "https://localhost:8080/"
        },
        "id": "X4cjBNhIBz0a",
        "outputId": "711c5fa7-5f9b-4adf-b274-77e8e9820b5b"
      },
      "source": [
        "print('Number of unique users', len(recomm_df['userID'].unique()))"
      ],
      "execution_count": 15,
      "outputs": [
        {
          "output_type": "stream",
          "text": [
            "Number of unique users 2261045\n"
          ],
          "name": "stdout"
        }
      ]
    },
    {
      "cell_type": "code",
      "metadata": {
        "colab": {
          "base_uri": "https://localhost:8080/"
        },
        "id": "XPejqllnB3hi",
        "outputId": "24b83947-bb78-456c-c3d4-119a35495938"
      },
      "source": [
        "print('Number of unique products', len(recomm_df['productID'].unique()))"
      ],
      "execution_count": 16,
      "outputs": [
        {
          "output_type": "stream",
          "text": [
            "Number of unique products 319678\n"
          ],
          "name": "stdout"
        }
      ]
    },
    {
      "cell_type": "code",
      "metadata": {
        "colab": {
          "base_uri": "https://localhost:8080/"
        },
        "id": "VuK7DUYNCEbC",
        "outputId": "a6497517-0180-47b1-ec9e-b04a343974b5"
      },
      "source": [
        "print('Unique Ratings', recomm_df['ratings'].unique())"
      ],
      "execution_count": 17,
      "outputs": [
        {
          "output_type": "stream",
          "text": [
            "Unique Ratings [1. 5. 2. 3. 4.]\n"
          ],
          "name": "stdout"
        }
      ]
    },
    {
      "cell_type": "code",
      "metadata": {
        "id": "N8yhNgZ1CIv5"
      },
      "source": [
        "min_ratings1 = recomm_df[(recomm_df['ratings'] < 2.0)]"
      ],
      "execution_count": 18,
      "outputs": []
    },
    {
      "cell_type": "code",
      "metadata": {
        "colab": {
          "base_uri": "https://localhost:8080/"
        },
        "id": "wRvYAkx-CLTE",
        "outputId": "823d01c9-a8a1-451a-c362-5500656c16c7"
      },
      "source": [
        "print('Number of unique products rated low',len(min_ratings1['productID'].unique()))"
      ],
      "execution_count": 19,
      "outputs": [
        {
          "output_type": "stream",
          "text": [
            "Number of unique products rated low 111747\n"
          ],
          "name": "stdout"
        }
      ]
    },
    {
      "cell_type": "code",
      "metadata": {
        "id": "BItK7rvKCMCh"
      },
      "source": [
        "med_ratings1 = recomm_df[(recomm_df['ratings'] > 2.0) & (recomm_df['ratings'] < 4.0)]"
      ],
      "execution_count": 20,
      "outputs": []
    },
    {
      "cell_type": "code",
      "metadata": {
        "colab": {
          "base_uri": "https://localhost:8080/"
        },
        "id": "WEmzxVAmCOhC",
        "outputId": "00d31f84-dbf1-4200-ce20-5a29edeb74c0"
      },
      "source": [
        "print('Number of unique products rated medium',len(med_ratings1['productID'].unique()))"
      ],
      "execution_count": 21,
      "outputs": [
        {
          "output_type": "stream",
          "text": [
            "Number of unique products rated medium 99476\n"
          ],
          "name": "stdout"
        }
      ]
    },
    {
      "cell_type": "code",
      "metadata": {
        "id": "WGG9epofCSa6"
      },
      "source": [
        "max_ratings1 = recomm_df[recomm_df['ratings'] >= 4.0]"
      ],
      "execution_count": 22,
      "outputs": []
    },
    {
      "cell_type": "code",
      "metadata": {
        "colab": {
          "base_uri": "https://localhost:8080/"
        },
        "id": "CT5HkGK9CUk5",
        "outputId": "7563d943-dd77-4af6-9c21-2e4c979d3755"
      },
      "source": [
        "print('Number of unique products rated high',len(max_ratings1['productID'].unique()))"
      ],
      "execution_count": 23,
      "outputs": [
        {
          "output_type": "stream",
          "text": [
            "Number of unique products rated high 250565\n"
          ],
          "name": "stdout"
        }
      ]
    },
    {
      "cell_type": "code",
      "metadata": {
        "id": "WLsXSG8SCXCB"
      },
      "source": [
        "avg_rating_prod = recomm_df.groupby('productID').sum() / recomm_df.groupby('productID').count()"
      ],
      "execution_count": 24,
      "outputs": []
    },
    {
      "cell_type": "code",
      "metadata": {
        "id": "a-EDBJNhCZHa"
      },
      "source": [
        "avg_rating_prod.drop('userID', axis=1,inplace =True)"
      ],
      "execution_count": 25,
      "outputs": []
    },
    {
      "cell_type": "code",
      "metadata": {
        "colab": {
          "base_uri": "https://localhost:8080/"
        },
        "id": "jPVf4dgHCbxB",
        "outputId": "858fd161-cec8-4a6f-9c14-1a181a51f244"
      },
      "source": [
        "print ('Top 10 highly rated products \\n',avg_rating_prod.nlargest(10,'ratings'))"
      ],
      "execution_count": 26,
      "outputs": [
        {
          "output_type": "stream",
          "text": [
            "Top 10 highly rated products \n",
            "             ratings\n",
            "productID          \n",
            "0214614700      5.0\n",
            "0214714705      5.0\n",
            "103824174X      5.0\n",
            "103984068X      5.0\n",
            "1049830512      5.0\n",
            "1059130386      5.0\n",
            "1059274930      5.0\n",
            "1059359189      5.0\n",
            "1059556936      5.0\n",
            "1059598515      5.0\n"
          ],
          "name": "stdout"
        }
      ]
    },
    {
      "cell_type": "markdown",
      "metadata": {
        "id": "3n7l0HfF_SRN"
      },
      "source": [
        "# Take a subset of the dataset to make it less sparse/ denser"
      ]
    },
    {
      "cell_type": "code",
      "metadata": {
        "id": "7pxU1zXTIF7k"
      },
      "source": [
        "userID = recomm_df.groupby('userID').count()"
      ],
      "execution_count": 27,
      "outputs": []
    },
    {
      "cell_type": "code",
      "metadata": {
        "id": "gRMGO5scIHrY"
      },
      "source": [
        "top_user = userID[userID['ratings'] >= 25].index"
      ],
      "execution_count": 28,
      "outputs": []
    },
    {
      "cell_type": "code",
      "metadata": {
        "id": "dAksHK4lIN6h"
      },
      "source": [
        "topuser_ratings_df = recomm_df[recomm_df['userID'].isin(top_user)]"
      ],
      "execution_count": 29,
      "outputs": []
    },
    {
      "cell_type": "code",
      "metadata": {
        "colab": {
          "base_uri": "https://localhost:8080/"
        },
        "id": "majRrxlYIRyI",
        "outputId": "dabd325b-9f12-4593-a865-ea914bb4cb2f"
      },
      "source": [
        "topuser_ratings_df.shape"
      ],
      "execution_count": 30,
      "outputs": [
        {
          "output_type": "execute_result",
          "data": {
            "text/plain": [
              "(22082, 3)"
            ]
          },
          "metadata": {
            "tags": []
          },
          "execution_count": 30
        }
      ]
    },
    {
      "cell_type": "code",
      "metadata": {
        "colab": {
          "base_uri": "https://localhost:8080/",
          "height": 203
        },
        "id": "N3Nvbw8tIV3g",
        "outputId": "91330c1a-01de-4278-8238-0ccaae95daa8"
      },
      "source": [
        "topuser_ratings_df.head()"
      ],
      "execution_count": 31,
      "outputs": [
        {
          "output_type": "execute_result",
          "data": {
            "text/html": [
              "<div>\n",
              "<style scoped>\n",
              "    .dataframe tbody tr th:only-of-type {\n",
              "        vertical-align: middle;\n",
              "    }\n",
              "\n",
              "    .dataframe tbody tr th {\n",
              "        vertical-align: top;\n",
              "    }\n",
              "\n",
              "    .dataframe thead th {\n",
              "        text-align: right;\n",
              "    }\n",
              "</style>\n",
              "<table border=\"1\" class=\"dataframe\">\n",
              "  <thead>\n",
              "    <tr style=\"text-align: right;\">\n",
              "      <th></th>\n",
              "      <th>userID</th>\n",
              "      <th>productID</th>\n",
              "      <th>ratings</th>\n",
              "    </tr>\n",
              "  </thead>\n",
              "  <tbody>\n",
              "    <tr>\n",
              "      <th>176</th>\n",
              "      <td>ATX7CZYFXI1KW</td>\n",
              "      <td>120401325X</td>\n",
              "      <td>5.0</td>\n",
              "    </tr>\n",
              "    <tr>\n",
              "      <th>326</th>\n",
              "      <td>A3R5RK752TYZ4Z</td>\n",
              "      <td>2912010594</td>\n",
              "      <td>5.0</td>\n",
              "    </tr>\n",
              "    <tr>\n",
              "      <th>426</th>\n",
              "      <td>A37XJZF145XH5B</td>\n",
              "      <td>549980088X</td>\n",
              "      <td>3.0</td>\n",
              "    </tr>\n",
              "    <tr>\n",
              "      <th>704</th>\n",
              "      <td>A2KP65JS3YY5VL</td>\n",
              "      <td>6073894996</td>\n",
              "      <td>5.0</td>\n",
              "    </tr>\n",
              "    <tr>\n",
              "      <th>716</th>\n",
              "      <td>ABDDX2PV61RMX</td>\n",
              "      <td>6073894996</td>\n",
              "      <td>4.0</td>\n",
              "    </tr>\n",
              "  </tbody>\n",
              "</table>\n",
              "</div>"
            ],
            "text/plain": [
              "             userID   productID  ratings\n",
              "176   ATX7CZYFXI1KW  120401325X      5.0\n",
              "326  A3R5RK752TYZ4Z  2912010594      5.0\n",
              "426  A37XJZF145XH5B  549980088X      3.0\n",
              "704  A2KP65JS3YY5VL  6073894996      5.0\n",
              "716   ABDDX2PV61RMX  6073894996      4.0"
            ]
          },
          "metadata": {
            "tags": []
          },
          "execution_count": 31
        }
      ]
    },
    {
      "cell_type": "code",
      "metadata": {
        "colab": {
          "base_uri": "https://localhost:8080/",
          "height": 203
        },
        "id": "wbImFJXCIYh4",
        "outputId": "fec5da43-3741-471f-aa4c-0de44c289db8"
      },
      "source": [
        "topuser_ratings_df.sort_values(by='ratings', ascending=False).head()"
      ],
      "execution_count": 32,
      "outputs": [
        {
          "output_type": "execute_result",
          "data": {
            "text/html": [
              "<div>\n",
              "<style scoped>\n",
              "    .dataframe tbody tr th:only-of-type {\n",
              "        vertical-align: middle;\n",
              "    }\n",
              "\n",
              "    .dataframe tbody tr th {\n",
              "        vertical-align: top;\n",
              "    }\n",
              "\n",
              "    .dataframe thead th {\n",
              "        text-align: right;\n",
              "    }\n",
              "</style>\n",
              "<table border=\"1\" class=\"dataframe\">\n",
              "  <thead>\n",
              "    <tr style=\"text-align: right;\">\n",
              "      <th></th>\n",
              "      <th>userID</th>\n",
              "      <th>productID</th>\n",
              "      <th>ratings</th>\n",
              "    </tr>\n",
              "  </thead>\n",
              "  <tbody>\n",
              "    <tr>\n",
              "      <th>176</th>\n",
              "      <td>ATX7CZYFXI1KW</td>\n",
              "      <td>120401325X</td>\n",
              "      <td>5.0</td>\n",
              "    </tr>\n",
              "    <tr>\n",
              "      <th>2591884</th>\n",
              "      <td>A2GAADJ9YMV9EU</td>\n",
              "      <td>B00BD6XTDK</td>\n",
              "      <td>5.0</td>\n",
              "    </tr>\n",
              "    <tr>\n",
              "      <th>2593109</th>\n",
              "      <td>A1E1LEVQ9VQNK</td>\n",
              "      <td>B00BE68IYE</td>\n",
              "      <td>5.0</td>\n",
              "    </tr>\n",
              "    <tr>\n",
              "      <th>2593100</th>\n",
              "      <td>AN81JUYW2SL24</td>\n",
              "      <td>B00BE68IYE</td>\n",
              "      <td>5.0</td>\n",
              "    </tr>\n",
              "    <tr>\n",
              "      <th>2592744</th>\n",
              "      <td>ABDR6IJ93HFIO</td>\n",
              "      <td>B00BDC2ZPM</td>\n",
              "      <td>5.0</td>\n",
              "    </tr>\n",
              "  </tbody>\n",
              "</table>\n",
              "</div>"
            ],
            "text/plain": [
              "                 userID   productID  ratings\n",
              "176       ATX7CZYFXI1KW  120401325X      5.0\n",
              "2591884  A2GAADJ9YMV9EU  B00BD6XTDK      5.0\n",
              "2593109   A1E1LEVQ9VQNK  B00BE68IYE      5.0\n",
              "2593100   AN81JUYW2SL24  B00BE68IYE      5.0\n",
              "2592744   ABDR6IJ93HFIO  B00BDC2ZPM      5.0"
            ]
          },
          "metadata": {
            "tags": []
          },
          "execution_count": 32
        }
      ]
    },
    {
      "cell_type": "code",
      "metadata": {
        "id": "efJQaRruIZwA"
      },
      "source": [
        "prodID = recomm_df.groupby('productID').count()"
      ],
      "execution_count": 33,
      "outputs": []
    },
    {
      "cell_type": "code",
      "metadata": {
        "id": "7hhSlsubId2B"
      },
      "source": [
        "top_prod = prodID[prodID['ratings'] >= 25].index"
      ],
      "execution_count": 34,
      "outputs": []
    },
    {
      "cell_type": "code",
      "metadata": {
        "id": "NcOqswZkIqII"
      },
      "source": [
        "top_ratings_df = topuser_ratings_df[topuser_ratings_df['productID'].isin(top_prod)]"
      ],
      "execution_count": 35,
      "outputs": []
    },
    {
      "cell_type": "code",
      "metadata": {
        "colab": {
          "base_uri": "https://localhost:8080/",
          "height": 203
        },
        "id": "7SRkFxW8Iq_4",
        "outputId": "6a5268b8-5042-4fcb-93c6-0aebe4aa68fc"
      },
      "source": [
        "top_ratings_df.sort_values(by='ratings', ascending=False).head()"
      ],
      "execution_count": 36,
      "outputs": [
        {
          "output_type": "execute_result",
          "data": {
            "text/html": [
              "<div>\n",
              "<style scoped>\n",
              "    .dataframe tbody tr th:only-of-type {\n",
              "        vertical-align: middle;\n",
              "    }\n",
              "\n",
              "    .dataframe tbody tr th {\n",
              "        vertical-align: top;\n",
              "    }\n",
              "\n",
              "    .dataframe thead th {\n",
              "        text-align: right;\n",
              "    }\n",
              "</style>\n",
              "<table border=\"1\" class=\"dataframe\">\n",
              "  <thead>\n",
              "    <tr style=\"text-align: right;\">\n",
              "      <th></th>\n",
              "      <th>userID</th>\n",
              "      <th>productID</th>\n",
              "      <th>ratings</th>\n",
              "    </tr>\n",
              "  </thead>\n",
              "  <tbody>\n",
              "    <tr>\n",
              "      <th>176</th>\n",
              "      <td>ATX7CZYFXI1KW</td>\n",
              "      <td>120401325X</td>\n",
              "      <td>5.0</td>\n",
              "    </tr>\n",
              "    <tr>\n",
              "      <th>1718606</th>\n",
              "      <td>ABXANRX4GPYRZ</td>\n",
              "      <td>B0089VO71U</td>\n",
              "      <td>5.0</td>\n",
              "    </tr>\n",
              "    <tr>\n",
              "      <th>2755828</th>\n",
              "      <td>A3TZEKXYJ9KC0M</td>\n",
              "      <td>B00CC6KX7U</td>\n",
              "      <td>5.0</td>\n",
              "    </tr>\n",
              "    <tr>\n",
              "      <th>1716390</th>\n",
              "      <td>AEJAGHLC675A7</td>\n",
              "      <td>B0089QBAHE</td>\n",
              "      <td>5.0</td>\n",
              "    </tr>\n",
              "    <tr>\n",
              "      <th>2575983</th>\n",
              "      <td>AZ5LAA4N0HUWY</td>\n",
              "      <td>B00B8P8IVO</td>\n",
              "      <td>5.0</td>\n",
              "    </tr>\n",
              "  </tbody>\n",
              "</table>\n",
              "</div>"
            ],
            "text/plain": [
              "                 userID   productID  ratings\n",
              "176       ATX7CZYFXI1KW  120401325X      5.0\n",
              "1718606   ABXANRX4GPYRZ  B0089VO71U      5.0\n",
              "2755828  A3TZEKXYJ9KC0M  B00CC6KX7U      5.0\n",
              "1716390   AEJAGHLC675A7  B0089QBAHE      5.0\n",
              "2575983   AZ5LAA4N0HUWY  B00B8P8IVO      5.0"
            ]
          },
          "metadata": {
            "tags": []
          },
          "execution_count": 36
        }
      ]
    },
    {
      "cell_type": "code",
      "metadata": {
        "colab": {
          "base_uri": "https://localhost:8080/"
        },
        "id": "HryAZsQqIt0I",
        "outputId": "a82a4c23-8600-4ced-a32e-b0ac6a686dff"
      },
      "source": [
        "top_ratings_df.shape"
      ],
      "execution_count": 37,
      "outputs": [
        {
          "output_type": "execute_result",
          "data": {
            "text/plain": [
              "(14154, 3)"
            ]
          },
          "metadata": {
            "tags": []
          },
          "execution_count": 37
        }
      ]
    },
    {
      "cell_type": "markdown",
      "metadata": {
        "id": "HX5EAb9B9Vsk"
      },
      "source": [
        "# Split the data randomly into train and test dataset."
      ]
    },
    {
      "cell_type": "code",
      "metadata": {
        "id": "73GTZ-fjI-8Q"
      },
      "source": [
        "from sklearn.model_selection import train_test_split\n",
        "train_data, test_data = train_test_split(top_ratings_df, test_size = 0.20, random_state=0)"
      ],
      "execution_count": 38,
      "outputs": []
    },
    {
      "cell_type": "code",
      "metadata": {
        "colab": {
          "base_uri": "https://localhost:8080/",
          "height": 203
        },
        "id": "oCHksieUJAPE",
        "outputId": "1d863565-842b-4cbc-e697-0131e5a32f4b"
      },
      "source": [
        "train_data.head()"
      ],
      "execution_count": 39,
      "outputs": [
        {
          "output_type": "execute_result",
          "data": {
            "text/html": [
              "<div>\n",
              "<style scoped>\n",
              "    .dataframe tbody tr th:only-of-type {\n",
              "        vertical-align: middle;\n",
              "    }\n",
              "\n",
              "    .dataframe tbody tr th {\n",
              "        vertical-align: top;\n",
              "    }\n",
              "\n",
              "    .dataframe thead th {\n",
              "        text-align: right;\n",
              "    }\n",
              "</style>\n",
              "<table border=\"1\" class=\"dataframe\">\n",
              "  <thead>\n",
              "    <tr style=\"text-align: right;\">\n",
              "      <th></th>\n",
              "      <th>userID</th>\n",
              "      <th>productID</th>\n",
              "      <th>ratings</th>\n",
              "    </tr>\n",
              "  </thead>\n",
              "  <tbody>\n",
              "    <tr>\n",
              "      <th>1243572</th>\n",
              "      <td>A15QYHQH80W30L</td>\n",
              "      <td>B00634HDXE</td>\n",
              "      <td>5.0</td>\n",
              "    </tr>\n",
              "    <tr>\n",
              "      <th>2814266</th>\n",
              "      <td>A3SNZPUALWI73A</td>\n",
              "      <td>B00CNZJKVK</td>\n",
              "      <td>5.0</td>\n",
              "    </tr>\n",
              "    <tr>\n",
              "      <th>2444204</th>\n",
              "      <td>A1VAUKYQDX4H2E</td>\n",
              "      <td>B00ALE5X2U</td>\n",
              "      <td>5.0</td>\n",
              "    </tr>\n",
              "    <tr>\n",
              "      <th>586334</th>\n",
              "      <td>A23AHRKVZEB2EG</td>\n",
              "      <td>B0043GTIR8</td>\n",
              "      <td>5.0</td>\n",
              "    </tr>\n",
              "    <tr>\n",
              "      <th>2548933</th>\n",
              "      <td>A2LXX47A0KMJVX</td>\n",
              "      <td>B00B45TMTK</td>\n",
              "      <td>3.0</td>\n",
              "    </tr>\n",
              "  </tbody>\n",
              "</table>\n",
              "</div>"
            ],
            "text/plain": [
              "                 userID   productID  ratings\n",
              "1243572  A15QYHQH80W30L  B00634HDXE      5.0\n",
              "2814266  A3SNZPUALWI73A  B00CNZJKVK      5.0\n",
              "2444204  A1VAUKYQDX4H2E  B00ALE5X2U      5.0\n",
              "586334   A23AHRKVZEB2EG  B0043GTIR8      5.0\n",
              "2548933  A2LXX47A0KMJVX  B00B45TMTK      3.0"
            ]
          },
          "metadata": {
            "tags": []
          },
          "execution_count": 39
        }
      ]
    },
    {
      "cell_type": "code",
      "metadata": {
        "colab": {
          "base_uri": "https://localhost:8080/",
          "height": 203
        },
        "id": "y2UGxEAjJDGv",
        "outputId": "ab81c4f0-3ef0-4f7e-dc90-d3d606fcb868"
      },
      "source": [
        "test_data.head()"
      ],
      "execution_count": 40,
      "outputs": [
        {
          "output_type": "execute_result",
          "data": {
            "text/html": [
              "<div>\n",
              "<style scoped>\n",
              "    .dataframe tbody tr th:only-of-type {\n",
              "        vertical-align: middle;\n",
              "    }\n",
              "\n",
              "    .dataframe tbody tr th {\n",
              "        vertical-align: top;\n",
              "    }\n",
              "\n",
              "    .dataframe thead th {\n",
              "        text-align: right;\n",
              "    }\n",
              "</style>\n",
              "<table border=\"1\" class=\"dataframe\">\n",
              "  <thead>\n",
              "    <tr style=\"text-align: right;\">\n",
              "      <th></th>\n",
              "      <th>userID</th>\n",
              "      <th>productID</th>\n",
              "      <th>ratings</th>\n",
              "    </tr>\n",
              "  </thead>\n",
              "  <tbody>\n",
              "    <tr>\n",
              "      <th>2855605</th>\n",
              "      <td>A2C66ZWC2V5FES</td>\n",
              "      <td>B00CXMWV1O</td>\n",
              "      <td>5.0</td>\n",
              "    </tr>\n",
              "    <tr>\n",
              "      <th>944285</th>\n",
              "      <td>A7C1NWHUFQ44S</td>\n",
              "      <td>B0057WXF6C</td>\n",
              "      <td>1.0</td>\n",
              "    </tr>\n",
              "    <tr>\n",
              "      <th>1794633</th>\n",
              "      <td>A2FKXU13USTGK0</td>\n",
              "      <td>B008DO50N2</td>\n",
              "      <td>5.0</td>\n",
              "    </tr>\n",
              "    <tr>\n",
              "      <th>831371</th>\n",
              "      <td>ARIDN94LOCQFD</td>\n",
              "      <td>B004W1IYOC</td>\n",
              "      <td>4.0</td>\n",
              "    </tr>\n",
              "    <tr>\n",
              "      <th>1163942</th>\n",
              "      <td>ARIDN94LOCQFD</td>\n",
              "      <td>B005TDWT4I</td>\n",
              "      <td>4.0</td>\n",
              "    </tr>\n",
              "  </tbody>\n",
              "</table>\n",
              "</div>"
            ],
            "text/plain": [
              "                 userID   productID  ratings\n",
              "2855605  A2C66ZWC2V5FES  B00CXMWV1O      5.0\n",
              "944285    A7C1NWHUFQ44S  B0057WXF6C      1.0\n",
              "1794633  A2FKXU13USTGK0  B008DO50N2      5.0\n",
              "831371    ARIDN94LOCQFD  B004W1IYOC      4.0\n",
              "1163942   ARIDN94LOCQFD  B005TDWT4I      4.0"
            ]
          },
          "metadata": {
            "tags": []
          },
          "execution_count": 40
        }
      ]
    },
    {
      "cell_type": "markdown",
      "metadata": {
        "id": "DNGsV4st9mdl"
      },
      "source": [
        "# Build Popularity Recommender model."
      ]
    },
    {
      "cell_type": "code",
      "metadata": {
        "id": "vhp_dakJJGYw"
      },
      "source": [
        "#Building the recommendations based on the average of all user ratings for each product.\n",
        "train_data_grouped = train_data.groupby('productID').mean().reset_index()"
      ],
      "execution_count": 41,
      "outputs": []
    },
    {
      "cell_type": "code",
      "metadata": {
        "colab": {
          "base_uri": "https://localhost:8080/",
          "height": 203
        },
        "id": "stQ-PjVnJLdA",
        "outputId": "5f2e4d60-a47b-4d7b-bccf-7dd8818190b3"
      },
      "source": [
        "train_data_grouped.head()"
      ],
      "execution_count": 42,
      "outputs": [
        {
          "output_type": "execute_result",
          "data": {
            "text/html": [
              "<div>\n",
              "<style scoped>\n",
              "    .dataframe tbody tr th:only-of-type {\n",
              "        vertical-align: middle;\n",
              "    }\n",
              "\n",
              "    .dataframe tbody tr th {\n",
              "        vertical-align: top;\n",
              "    }\n",
              "\n",
              "    .dataframe thead th {\n",
              "        text-align: right;\n",
              "    }\n",
              "</style>\n",
              "<table border=\"1\" class=\"dataframe\">\n",
              "  <thead>\n",
              "    <tr style=\"text-align: right;\">\n",
              "      <th></th>\n",
              "      <th>productID</th>\n",
              "      <th>ratings</th>\n",
              "    </tr>\n",
              "  </thead>\n",
              "  <tbody>\n",
              "    <tr>\n",
              "      <th>0</th>\n",
              "      <td>120401325X</td>\n",
              "      <td>5.000000</td>\n",
              "    </tr>\n",
              "    <tr>\n",
              "      <th>1</th>\n",
              "      <td>6073894996</td>\n",
              "      <td>3.666667</td>\n",
              "    </tr>\n",
              "    <tr>\n",
              "      <th>2</th>\n",
              "      <td>7532385086</td>\n",
              "      <td>5.000000</td>\n",
              "    </tr>\n",
              "    <tr>\n",
              "      <th>3</th>\n",
              "      <td>7887421268</td>\n",
              "      <td>5.000000</td>\n",
              "    </tr>\n",
              "    <tr>\n",
              "      <th>4</th>\n",
              "      <td>9983744066</td>\n",
              "      <td>5.000000</td>\n",
              "    </tr>\n",
              "  </tbody>\n",
              "</table>\n",
              "</div>"
            ],
            "text/plain": [
              "    productID   ratings\n",
              "0  120401325X  5.000000\n",
              "1  6073894996  3.666667\n",
              "2  7532385086  5.000000\n",
              "3  7887421268  5.000000\n",
              "4  9983744066  5.000000"
            ]
          },
          "metadata": {
            "tags": []
          },
          "execution_count": 42
        }
      ]
    },
    {
      "cell_type": "code",
      "metadata": {
        "id": "wU8UCLsVJNgg"
      },
      "source": [
        "train_data_sort = train_data_grouped.sort_values(['ratings', 'productID'], ascending=False)"
      ],
      "execution_count": 43,
      "outputs": []
    },
    {
      "cell_type": "code",
      "metadata": {
        "colab": {
          "base_uri": "https://localhost:8080/",
          "height": 203
        },
        "id": "3B95DT1_JQeA",
        "outputId": "87b9c7b3-fd33-4255-d71a-1db4acad184e"
      },
      "source": [
        "train_data_sort.head()"
      ],
      "execution_count": 44,
      "outputs": [
        {
          "output_type": "execute_result",
          "data": {
            "text/html": [
              "<div>\n",
              "<style scoped>\n",
              "    .dataframe tbody tr th:only-of-type {\n",
              "        vertical-align: middle;\n",
              "    }\n",
              "\n",
              "    .dataframe tbody tr th {\n",
              "        vertical-align: top;\n",
              "    }\n",
              "\n",
              "    .dataframe thead th {\n",
              "        text-align: right;\n",
              "    }\n",
              "</style>\n",
              "<table border=\"1\" class=\"dataframe\">\n",
              "  <thead>\n",
              "    <tr style=\"text-align: right;\">\n",
              "      <th></th>\n",
              "      <th>productID</th>\n",
              "      <th>ratings</th>\n",
              "    </tr>\n",
              "  </thead>\n",
              "  <tbody>\n",
              "    <tr>\n",
              "      <th>5454</th>\n",
              "      <td>B00KFY9OF8</td>\n",
              "      <td>5.0</td>\n",
              "    </tr>\n",
              "    <tr>\n",
              "      <th>5453</th>\n",
              "      <td>B00KFVM6JW</td>\n",
              "      <td>5.0</td>\n",
              "    </tr>\n",
              "    <tr>\n",
              "      <th>5450</th>\n",
              "      <td>B00KD4748Y</td>\n",
              "      <td>5.0</td>\n",
              "    </tr>\n",
              "    <tr>\n",
              "      <th>5449</th>\n",
              "      <td>B00KCZO2WK</td>\n",
              "      <td>5.0</td>\n",
              "    </tr>\n",
              "    <tr>\n",
              "      <th>5448</th>\n",
              "      <td>B00KCUIK1E</td>\n",
              "      <td>5.0</td>\n",
              "    </tr>\n",
              "  </tbody>\n",
              "</table>\n",
              "</div>"
            ],
            "text/plain": [
              "       productID  ratings\n",
              "5454  B00KFY9OF8      5.0\n",
              "5453  B00KFVM6JW      5.0\n",
              "5450  B00KD4748Y      5.0\n",
              "5449  B00KCZO2WK      5.0\n",
              "5448  B00KCUIK1E      5.0"
            ]
          },
          "metadata": {
            "tags": []
          },
          "execution_count": 44
        }
      ]
    },
    {
      "cell_type": "code",
      "metadata": {
        "colab": {
          "base_uri": "https://localhost:8080/"
        },
        "id": "5WvcU2cMJTVQ",
        "outputId": "208e96fe-9a03-446a-db10-8360e930d437"
      },
      "source": [
        "train_data.groupby('productID')['ratings'].count().sort_values(ascending=False).head(10)"
      ],
      "execution_count": 45,
      "outputs": [
        {
          "output_type": "execute_result",
          "data": {
            "text/plain": [
              "productID\n",
              "B00ANALDWQ    44\n",
              "B00E2TT8W6    36\n",
              "B00EZ71LM0    35\n",
              "B00FAADBHO    35\n",
              "B00E327OIM    31\n",
              "B00G5K3B46    29\n",
              "B00D64PN36    27\n",
              "B0093IHVJI    24\n",
              "B00BFQ9R0W    24\n",
              "B00B1UQBGA    23\n",
              "Name: ratings, dtype: int64"
            ]
          },
          "metadata": {
            "tags": []
          },
          "execution_count": 45
        }
      ]
    },
    {
      "cell_type": "code",
      "metadata": {
        "id": "oHvt6COyJXzY"
      },
      "source": [
        "ratings_mean_count = pd.DataFrame(train_data.groupby('productID')['ratings'].mean())"
      ],
      "execution_count": 46,
      "outputs": []
    },
    {
      "cell_type": "code",
      "metadata": {
        "id": "6NUnmL-VJYjh"
      },
      "source": [
        "ratings_mean_count['rating_counts'] = pd.DataFrame(train_data.groupby('productID')['ratings'].count())"
      ],
      "execution_count": 47,
      "outputs": []
    },
    {
      "cell_type": "code",
      "metadata": {
        "colab": {
          "base_uri": "https://localhost:8080/",
          "height": 234
        },
        "id": "-V0Y_4OCJa2g",
        "outputId": "29d3a9eb-0f0f-4a17-8571-143404e4bb63"
      },
      "source": [
        "ratings_mean_count.head()"
      ],
      "execution_count": 48,
      "outputs": [
        {
          "output_type": "execute_result",
          "data": {
            "text/html": [
              "<div>\n",
              "<style scoped>\n",
              "    .dataframe tbody tr th:only-of-type {\n",
              "        vertical-align: middle;\n",
              "    }\n",
              "\n",
              "    .dataframe tbody tr th {\n",
              "        vertical-align: top;\n",
              "    }\n",
              "\n",
              "    .dataframe thead th {\n",
              "        text-align: right;\n",
              "    }\n",
              "</style>\n",
              "<table border=\"1\" class=\"dataframe\">\n",
              "  <thead>\n",
              "    <tr style=\"text-align: right;\">\n",
              "      <th></th>\n",
              "      <th>ratings</th>\n",
              "      <th>rating_counts</th>\n",
              "    </tr>\n",
              "    <tr>\n",
              "      <th>productID</th>\n",
              "      <th></th>\n",
              "      <th></th>\n",
              "    </tr>\n",
              "  </thead>\n",
              "  <tbody>\n",
              "    <tr>\n",
              "      <th>120401325X</th>\n",
              "      <td>5.000000</td>\n",
              "      <td>1</td>\n",
              "    </tr>\n",
              "    <tr>\n",
              "      <th>6073894996</th>\n",
              "      <td>3.666667</td>\n",
              "      <td>3</td>\n",
              "    </tr>\n",
              "    <tr>\n",
              "      <th>7532385086</th>\n",
              "      <td>5.000000</td>\n",
              "      <td>1</td>\n",
              "    </tr>\n",
              "    <tr>\n",
              "      <th>7887421268</th>\n",
              "      <td>5.000000</td>\n",
              "      <td>1</td>\n",
              "    </tr>\n",
              "    <tr>\n",
              "      <th>9983744066</th>\n",
              "      <td>5.000000</td>\n",
              "      <td>1</td>\n",
              "    </tr>\n",
              "  </tbody>\n",
              "</table>\n",
              "</div>"
            ],
            "text/plain": [
              "             ratings  rating_counts\n",
              "productID                          \n",
              "120401325X  5.000000              1\n",
              "6073894996  3.666667              3\n",
              "7532385086  5.000000              1\n",
              "7887421268  5.000000              1\n",
              "9983744066  5.000000              1"
            ]
          },
          "metadata": {
            "tags": []
          },
          "execution_count": 48
        }
      ]
    },
    {
      "cell_type": "code",
      "metadata": {
        "id": "uUxmpDjTJdQo"
      },
      "source": [
        "pred_df = test_data[['userID', 'productID', 'ratings']]"
      ],
      "execution_count": 49,
      "outputs": []
    },
    {
      "cell_type": "code",
      "metadata": {
        "id": "eLu4UBVBJhCX"
      },
      "source": [
        "pred_df.rename(columns = {'ratings' : 'true_ratings'}, inplace=True)"
      ],
      "execution_count": 50,
      "outputs": []
    },
    {
      "cell_type": "code",
      "metadata": {
        "id": "J7Usw2uOJnNw"
      },
      "source": [
        "pred_df = pred_df.merge(train_data_sort, left_on='productID', right_on = 'productID')"
      ],
      "execution_count": 51,
      "outputs": []
    },
    {
      "cell_type": "code",
      "metadata": {
        "colab": {
          "base_uri": "https://localhost:8080/",
          "height": 142
        },
        "id": "425TVhmEJsuv",
        "outputId": "0c8eea41-bf79-4b10-9760-9659242108e9"
      },
      "source": [
        "pred_df.head(3)"
      ],
      "execution_count": 52,
      "outputs": [
        {
          "output_type": "execute_result",
          "data": {
            "text/html": [
              "<div>\n",
              "<style scoped>\n",
              "    .dataframe tbody tr th:only-of-type {\n",
              "        vertical-align: middle;\n",
              "    }\n",
              "\n",
              "    .dataframe tbody tr th {\n",
              "        vertical-align: top;\n",
              "    }\n",
              "\n",
              "    .dataframe thead th {\n",
              "        text-align: right;\n",
              "    }\n",
              "</style>\n",
              "<table border=\"1\" class=\"dataframe\">\n",
              "  <thead>\n",
              "    <tr style=\"text-align: right;\">\n",
              "      <th></th>\n",
              "      <th>userID</th>\n",
              "      <th>productID</th>\n",
              "      <th>true_ratings</th>\n",
              "      <th>ratings</th>\n",
              "    </tr>\n",
              "  </thead>\n",
              "  <tbody>\n",
              "    <tr>\n",
              "      <th>0</th>\n",
              "      <td>A7C1NWHUFQ44S</td>\n",
              "      <td>B0057WXF6C</td>\n",
              "      <td>1.0</td>\n",
              "      <td>4.166667</td>\n",
              "    </tr>\n",
              "    <tr>\n",
              "      <th>1</th>\n",
              "      <td>A2FKXU13USTGK0</td>\n",
              "      <td>B008DO50N2</td>\n",
              "      <td>5.0</td>\n",
              "      <td>5.000000</td>\n",
              "    </tr>\n",
              "    <tr>\n",
              "      <th>2</th>\n",
              "      <td>A29HN98I73AT0A</td>\n",
              "      <td>B008DO50N2</td>\n",
              "      <td>5.0</td>\n",
              "      <td>5.000000</td>\n",
              "    </tr>\n",
              "  </tbody>\n",
              "</table>\n",
              "</div>"
            ],
            "text/plain": [
              "           userID   productID  true_ratings   ratings\n",
              "0   A7C1NWHUFQ44S  B0057WXF6C           1.0  4.166667\n",
              "1  A2FKXU13USTGK0  B008DO50N2           5.0  5.000000\n",
              "2  A29HN98I73AT0A  B008DO50N2           5.0  5.000000"
            ]
          },
          "metadata": {
            "tags": []
          },
          "execution_count": 52
        }
      ]
    },
    {
      "cell_type": "code",
      "metadata": {
        "id": "OWBCjb94Jwp6"
      },
      "source": [
        "pred_df.rename(columns = {'ratings' : 'predicted_ratings'}, inplace = True)"
      ],
      "execution_count": 53,
      "outputs": []
    },
    {
      "cell_type": "code",
      "metadata": {
        "colab": {
          "base_uri": "https://localhost:8080/",
          "height": 203
        },
        "id": "uyuItJdkJxko",
        "outputId": "6e5bac12-46d8-46cb-b7f7-3b1882a411eb"
      },
      "source": [
        "pred_df.head()"
      ],
      "execution_count": 54,
      "outputs": [
        {
          "output_type": "execute_result",
          "data": {
            "text/html": [
              "<div>\n",
              "<style scoped>\n",
              "    .dataframe tbody tr th:only-of-type {\n",
              "        vertical-align: middle;\n",
              "    }\n",
              "\n",
              "    .dataframe tbody tr th {\n",
              "        vertical-align: top;\n",
              "    }\n",
              "\n",
              "    .dataframe thead th {\n",
              "        text-align: right;\n",
              "    }\n",
              "</style>\n",
              "<table border=\"1\" class=\"dataframe\">\n",
              "  <thead>\n",
              "    <tr style=\"text-align: right;\">\n",
              "      <th></th>\n",
              "      <th>userID</th>\n",
              "      <th>productID</th>\n",
              "      <th>true_ratings</th>\n",
              "      <th>predicted_ratings</th>\n",
              "    </tr>\n",
              "  </thead>\n",
              "  <tbody>\n",
              "    <tr>\n",
              "      <th>0</th>\n",
              "      <td>A7C1NWHUFQ44S</td>\n",
              "      <td>B0057WXF6C</td>\n",
              "      <td>1.0</td>\n",
              "      <td>4.166667</td>\n",
              "    </tr>\n",
              "    <tr>\n",
              "      <th>1</th>\n",
              "      <td>A2FKXU13USTGK0</td>\n",
              "      <td>B008DO50N2</td>\n",
              "      <td>5.0</td>\n",
              "      <td>5.000000</td>\n",
              "    </tr>\n",
              "    <tr>\n",
              "      <th>2</th>\n",
              "      <td>A29HN98I73AT0A</td>\n",
              "      <td>B008DO50N2</td>\n",
              "      <td>5.0</td>\n",
              "      <td>5.000000</td>\n",
              "    </tr>\n",
              "    <tr>\n",
              "      <th>3</th>\n",
              "      <td>ARIDN94LOCQFD</td>\n",
              "      <td>B005TDWT4I</td>\n",
              "      <td>4.0</td>\n",
              "      <td>5.000000</td>\n",
              "    </tr>\n",
              "    <tr>\n",
              "      <th>4</th>\n",
              "      <td>A1F7YU6O5RU432</td>\n",
              "      <td>B005TDWT4I</td>\n",
              "      <td>4.0</td>\n",
              "      <td>5.000000</td>\n",
              "    </tr>\n",
              "  </tbody>\n",
              "</table>\n",
              "</div>"
            ],
            "text/plain": [
              "           userID   productID  true_ratings  predicted_ratings\n",
              "0   A7C1NWHUFQ44S  B0057WXF6C           1.0           4.166667\n",
              "1  A2FKXU13USTGK0  B008DO50N2           5.0           5.000000\n",
              "2  A29HN98I73AT0A  B008DO50N2           5.0           5.000000\n",
              "3   ARIDN94LOCQFD  B005TDWT4I           4.0           5.000000\n",
              "4  A1F7YU6O5RU432  B005TDWT4I           4.0           5.000000"
            ]
          },
          "metadata": {
            "tags": []
          },
          "execution_count": 54
        }
      ]
    },
    {
      "cell_type": "code",
      "metadata": {
        "colab": {
          "base_uri": "https://localhost:8080/"
        },
        "id": "pf2GQUu4J0zY",
        "outputId": "8061ac90-ae5c-4ece-f4ed-b122dd8a0e51"
      },
      "source": [
        "import sklearn.metrics as metric\n",
        "from math import sqrt\n",
        "MSE = metric.mean_squared_error(pred_df['true_ratings'], pred_df['predicted_ratings'])\n",
        "print('The RMSE value for Popularity Recommender model is', sqrt(MSE))"
      ],
      "execution_count": 55,
      "outputs": [
        {
          "output_type": "stream",
          "text": [
            "The RMSE value for Popularity Recommender model is 1.1517511002484444\n"
          ],
          "name": "stdout"
        }
      ]
    },
    {
      "cell_type": "markdown",
      "metadata": {
        "id": "ViwAnuPP93FF"
      },
      "source": [
        "# Build Collaborative Filtering model"
      ]
    },
    {
      "cell_type": "code",
      "metadata": {
        "id": "QDGPOjAmKEkx"
      },
      "source": [
        "import surprise\n",
        "from surprise import KNNWithMeans\n",
        "from surprise.model_selection import GridSearchCV\n",
        "from surprise import Dataset\n",
        "from surprise import accuracy\n",
        "from surprise import Reader\n",
        "from surprise.model_selection import train_test_split"
      ],
      "execution_count": 56,
      "outputs": []
    },
    {
      "cell_type": "code",
      "metadata": {
        "id": "nBwwviOaKJZI"
      },
      "source": [
        "reader = Reader(rating_scale=(0.5, 5.0))"
      ],
      "execution_count": 57,
      "outputs": []
    },
    {
      "cell_type": "markdown",
      "metadata": {
        "id": "0KjjmvJU9_WO"
      },
      "source": [
        "# Converting Pandas Dataframe to Surpise format"
      ]
    },
    {
      "cell_type": "code",
      "metadata": {
        "id": "D-huSaf1KLcA"
      },
      "source": [
        "data = Dataset.load_from_df(top_ratings_df[['userID', 'productID', 'ratings']],reader)"
      ],
      "execution_count": 58,
      "outputs": []
    },
    {
      "cell_type": "code",
      "metadata": {
        "id": "3A0Po8J0KPiw"
      },
      "source": [
        "# Split data to train and test\n",
        "from surprise.model_selection import train_test_split\n",
        "trainset, testset = train_test_split(data, test_size=.2,random_state=0)"
      ],
      "execution_count": 59,
      "outputs": []
    },
    {
      "cell_type": "code",
      "metadata": {
        "colab": {
          "base_uri": "https://localhost:8080/"
        },
        "id": "b6_k3-NHKU_o",
        "outputId": "f443ee40-dc43-44bd-d2a5-8bcca9bb4984"
      },
      "source": [
        "type(trainset)"
      ],
      "execution_count": 60,
      "outputs": [
        {
          "output_type": "execute_result",
          "data": {
            "text/plain": [
              "surprise.trainset.Trainset"
            ]
          },
          "metadata": {
            "tags": []
          },
          "execution_count": 60
        }
      ]
    },
    {
      "cell_type": "markdown",
      "metadata": {
        "id": "3MdfLKq2-MpD"
      },
      "source": [
        "# Training the models"
      ]
    },
    {
      "cell_type": "markdown",
      "metadata": {
        "id": "4Rcb74iN-Rla"
      },
      "source": [
        "**KNNwithmeans**"
      ]
    },
    {
      "cell_type": "code",
      "metadata": {
        "colab": {
          "base_uri": "https://localhost:8080/"
        },
        "id": "8n_Nvdj9KasQ",
        "outputId": "8078fe22-9522-441b-8135-27686d3a7b38"
      },
      "source": [
        "algo_user = KNNWithMeans(k=10, min_k=6, sim_options={'name': 'pearson_baseline', 'user_based': True})\n",
        "algo_user.fit(trainset)"
      ],
      "execution_count": 61,
      "outputs": [
        {
          "output_type": "stream",
          "text": [
            "Estimating biases using als...\n",
            "Computing the pearson_baseline similarity matrix...\n",
            "Done computing similarity matrix.\n"
          ],
          "name": "stdout"
        },
        {
          "output_type": "execute_result",
          "data": {
            "text/plain": [
              "<surprise.prediction_algorithms.knns.KNNWithMeans at 0x7f0634958c90>"
            ]
          },
          "metadata": {
            "tags": []
          },
          "execution_count": 61
        }
      ]
    },
    {
      "cell_type": "markdown",
      "metadata": {
        "id": "wGh0Vtp2-XuH"
      },
      "source": [
        "**SVD**"
      ]
    },
    {
      "cell_type": "code",
      "metadata": {
        "colab": {
          "base_uri": "https://localhost:8080/"
        },
        "id": "vVXYtgaNKidQ",
        "outputId": "c7b94b5b-dc10-4203-ccdf-c25be5915b0f"
      },
      "source": [
        "svd_model = SVD(n_factors=50,reg_all=0.02)\n",
        "svd_model.fit(trainset)"
      ],
      "execution_count": 62,
      "outputs": [
        {
          "output_type": "execute_result",
          "data": {
            "text/plain": [
              "<surprise.prediction_algorithms.matrix_factorization.SVD at 0x7f063495e3d0>"
            ]
          },
          "metadata": {
            "tags": []
          },
          "execution_count": 62
        }
      ]
    },
    {
      "cell_type": "markdown",
      "metadata": {
        "id": "w4U977Ob_DMk"
      },
      "source": [
        "# Evaluate both the models."
      ]
    },
    {
      "cell_type": "markdown",
      "metadata": {
        "id": "K5t7H1Wk--x_"
      },
      "source": [
        "\n",
        "**Popularity Recommender Model (RMSE)**"
      ]
    },
    {
      "cell_type": "code",
      "metadata": {
        "colab": {
          "base_uri": "https://localhost:8080/"
        },
        "id": "nykLbNKkKqUy",
        "outputId": "1621e291-1a9b-4582-93c4-2581de93f606"
      },
      "source": [
        "MSE = metric.mean_squared_error(pred_df['true_ratings'], pred_df['predicted_ratings'])\n",
        "print('The RMSE value for Popularity Recommender model is', sqrt(MSE))"
      ],
      "execution_count": 63,
      "outputs": [
        {
          "output_type": "stream",
          "text": [
            "The RMSE value for Popularity Recommender model is 1.1517511002484444\n"
          ],
          "name": "stdout"
        }
      ]
    },
    {
      "cell_type": "markdown",
      "metadata": {
        "id": "U4Z7aVwF-8vX"
      },
      "source": [
        "**Collaborative Filtering Recommender Model (RMSE)**"
      ]
    },
    {
      "cell_type": "code",
      "metadata": {
        "colab": {
          "base_uri": "https://localhost:8080/"
        },
        "id": "ht-_NqgwKrLI",
        "outputId": "0b82b30f-a753-4dc3-99d5-acbc3538d335"
      },
      "source": [
        "print(len(testset))\n",
        "type(testset)"
      ],
      "execution_count": 64,
      "outputs": [
        {
          "output_type": "stream",
          "text": [
            "2831\n"
          ],
          "name": "stdout"
        },
        {
          "output_type": "execute_result",
          "data": {
            "text/plain": [
              "list"
            ]
          },
          "metadata": {
            "tags": []
          },
          "execution_count": 64
        }
      ]
    },
    {
      "cell_type": "markdown",
      "metadata": {
        "id": "l3BDMfDF-1Dz"
      },
      "source": [
        "**KNNWithMeans**"
      ]
    },
    {
      "cell_type": "code",
      "metadata": {
        "colab": {
          "base_uri": "https://localhost:8080/"
        },
        "id": "17z9QxzLKvIw",
        "outputId": "f01e1f35-0d8c-4bdb-c592-db05fd209ca7"
      },
      "source": [
        "# Evalute on test set\n",
        "test_pred = algo_user.test(testset)\n",
        "test_pred[0]"
      ],
      "execution_count": 65,
      "outputs": [
        {
          "output_type": "execute_result",
          "data": {
            "text/plain": [
              "Prediction(uid='ASAE723AV7MYO', iid='B007KYACBQ', r_ui=3.0, est=4.327386734964232, details={'was_impossible': True, 'reason': 'User and/or item is unknown.'})"
            ]
          },
          "metadata": {
            "tags": []
          },
          "execution_count": 65
        }
      ]
    },
    {
      "cell_type": "code",
      "metadata": {
        "colab": {
          "base_uri": "https://localhost:8080/"
        },
        "id": "BsJ-neQQKxMg",
        "outputId": "647e17fd-ac6b-48d1-a752-744141a56f28"
      },
      "source": [
        "# compute RMSE\n",
        "accuracy.rmse(test_pred) #range of value of error"
      ],
      "execution_count": 66,
      "outputs": [
        {
          "output_type": "stream",
          "text": [
            "RMSE: 1.0266\n"
          ],
          "name": "stdout"
        },
        {
          "output_type": "execute_result",
          "data": {
            "text/plain": [
              "1.02659929460711"
            ]
          },
          "metadata": {
            "tags": []
          },
          "execution_count": 66
        }
      ]
    },
    {
      "cell_type": "markdown",
      "metadata": {
        "id": "mpHEP8HW-xIn"
      },
      "source": [
        "**SVD**"
      ]
    },
    {
      "cell_type": "code",
      "metadata": {
        "id": "QZFMF8jqLVFn"
      },
      "source": [
        "test_pred = svd_model.test(testset)"
      ],
      "execution_count": 67,
      "outputs": []
    },
    {
      "cell_type": "code",
      "metadata": {
        "colab": {
          "base_uri": "https://localhost:8080/"
        },
        "id": "seM91tbKLV8Y",
        "outputId": "e88a9283-2688-43d2-9289-8b55ec4adce9"
      },
      "source": [
        "# compute RMSE\n",
        "accuracy.rmse(test_pred)"
      ],
      "execution_count": 68,
      "outputs": [
        {
          "output_type": "stream",
          "text": [
            "RMSE: 0.9733\n"
          ],
          "name": "stdout"
        },
        {
          "output_type": "execute_result",
          "data": {
            "text/plain": [
              "0.9732960035556816"
            ]
          },
          "metadata": {
            "tags": []
          },
          "execution_count": 68
        }
      ]
    },
    {
      "cell_type": "markdown",
      "metadata": {
        "id": "azekVihW-qIQ"
      },
      "source": [
        "\n",
        "**Parameter tuning of SVD Recommendation** **system**"
      ]
    },
    {
      "cell_type": "code",
      "metadata": {
        "id": "IX0FfM-cLafA"
      },
      "source": [
        "from surprise.model_selection import GridSearchCV\n",
        "param_grid = {'n_factors' : [5,10,15], \"reg_all\":[0.01,0.02]}\n",
        "gs = GridSearchCV(SVD, param_grid, measures=['rmse'], cv=3,refit = True)"
      ],
      "execution_count": 69,
      "outputs": []
    },
    {
      "cell_type": "code",
      "metadata": {
        "id": "frjfbsfWLdOo"
      },
      "source": [
        "gs.fit(data)"
      ],
      "execution_count": 70,
      "outputs": []
    },
    {
      "cell_type": "code",
      "metadata": {
        "colab": {
          "base_uri": "https://localhost:8080/"
        },
        "id": "Smncf8qOLf0f",
        "outputId": "96d9ee55-df6c-44ba-fea6-45229189c374"
      },
      "source": [
        "# get best parameters\n",
        "gs.best_params"
      ],
      "execution_count": 71,
      "outputs": [
        {
          "output_type": "execute_result",
          "data": {
            "text/plain": [
              "{'rmse': {'n_factors': 5, 'reg_all': 0.01}}"
            ]
          },
          "metadata": {
            "tags": []
          },
          "execution_count": 71
        }
      ]
    },
    {
      "cell_type": "code",
      "metadata": {
        "colab": {
          "base_uri": "https://localhost:8080/"
        },
        "id": "C_pv_ozWLkTA",
        "outputId": "04d959a6-8bd6-4394-8f46-842e8f9749ac"
      },
      "source": [
        "# Use the \"best model\" for prediction\n",
        "gs.test(testset)\n",
        "accuracy.rmse(gs.test(testset))"
      ],
      "execution_count": 72,
      "outputs": [
        {
          "output_type": "stream",
          "text": [
            "RMSE: 0.8476\n"
          ],
          "name": "stdout"
        },
        {
          "output_type": "execute_result",
          "data": {
            "text/plain": [
              "0.8476131315067332"
            ]
          },
          "metadata": {
            "tags": []
          },
          "execution_count": 72
        }
      ]
    },
    {
      "cell_type": "markdown",
      "metadata": {
        "id": "cYd_4qpwApUV"
      },
      "source": [
        "# Precision, Recall and F1 score\n"
      ]
    },
    {
      "cell_type": "code",
      "metadata": {
        "id": "e3HKOnJ7AwEo"
      },
      "source": [
        "# Return precision and recall at k metrics for each user\n",
        "def precision_recall_at_k(predictions, k = 10, threshold = 3.5):\n",
        "    \n",
        "    # First map the predictions to each user.\n",
        "    user_est_true = defaultdict(list)\n",
        "    for uid, _, true_r, est, _ in predictions:\n",
        "        user_est_true[uid].append((est, true_r))\n",
        "    \n",
        "    precisions = dict()\n",
        "    recalls = dict()\n",
        "    for uid, user_ratings in user_est_true.items():\n",
        "        \n",
        "        # Sort user ratings by estimated value\n",
        "        user_ratings.sort(key=lambda x: x[0], reverse=True)\n",
        "        \n",
        "        # Number of relevant items\n",
        "        n_rel = sum((true_r >= threshold) for (_, true_r) in user_ratings)\n",
        "        \n",
        "        # Number of recommended items in top k\n",
        "        n_rec_k = sum((est >= threshold) for (est, _) in user_ratings[:k])\n",
        "        \n",
        "        # Number of relevant and recommended items in top k\n",
        "        n_rel_and_rec_k = sum(((true_r >= threshold) and (est >= threshold)) for (est, true_r) in user_ratings[:k])\n",
        "        \n",
        "        # Precision@K: Proportion of recommended items that are relevant\n",
        "        precisions[uid] = n_rel_and_rec_k / n_rec_k if n_rec_k != 0 else 1\n",
        "        \n",
        "        # Recall@K: Proportion of relevant items that are recommended\n",
        "        recalls[uid] = n_rel_and_rec_k / n_rel if n_rel != 0 else 1\n",
        "    \n",
        "    return precisions, recalls;"
      ],
      "execution_count": 73,
      "outputs": []
    },
    {
      "cell_type": "code",
      "metadata": {
        "id": "uOYo1533A0L3"
      },
      "source": [
        "# Returns the precision and recall of the model at k metrics\n",
        "def get_precision_vs_recall(algo, k_max = 10, verbose = False):\n",
        "    precision_list = []\n",
        "    recall_list = []\n",
        "    f1_score_list = []\n",
        "    \n",
        "    if algo:\n",
        "        for k_curr in range(1, k_max + 1):\n",
        "            algo.fit(trainset)\n",
        "            predictions = algo.test(testset)\n",
        "            \n",
        "            # Get precision and recall at k metrics for each user\n",
        "            precisions, recalls = precision_recall_at_k(predictions, k = k_curr, threshold = 4)\n",
        "            \n",
        "            # Precision and recall can then be averaged over all users\n",
        "            precision = sum(prec for prec in precisions.values()) / len(precisions)\n",
        "            recall = sum(rec for rec in recalls.values()) / len(recalls)\n",
        "            f1_score = 2 * (precision * recall) / (precision + recall)\n",
        "            \n",
        "            # Save measures\n",
        "            precision_list.append(precision)\n",
        "            recall_list.append(recall)\n",
        "            f1_score_list.append(f1_score)\n",
        "            \n",
        "            if verbose:\n",
        "                print('K =', k_curr, '- Precision:', precision, ', Recall:', recall, ', F1 score:', f1_score)\n",
        "    \n",
        "    return {'precision': precision_list, 'recall': recall_list, 'f1_score': f1_score_list};"
      ],
      "execution_count": 74,
      "outputs": []
    },
    {
      "cell_type": "code",
      "metadata": {
        "colab": {
          "base_uri": "https://localhost:8080/"
        },
        "id": "OuxkS1gtA-vQ",
        "outputId": "83d115fe-16da-492f-b3fe-80d1f0f27402"
      },
      "source": [
        "gs.best_params['rmse']"
      ],
      "execution_count": 75,
      "outputs": [
        {
          "output_type": "execute_result",
          "data": {
            "text/plain": [
              "{'n_factors': 5, 'reg_all': 0.01}"
            ]
          },
          "metadata": {
            "tags": []
          },
          "execution_count": 75
        }
      ]
    },
    {
      "cell_type": "code",
      "metadata": {
        "id": "dREY0vwEA_rf"
      },
      "source": [
        "# Use SVD algorithm with the best params\n",
        "algo = SVD() #gs.best_estimator['rmse']"
      ],
      "execution_count": 76,
      "outputs": []
    },
    {
      "cell_type": "code",
      "metadata": {
        "colab": {
          "base_uri": "https://localhost:8080/"
        },
        "id": "tMhnrIYoBHnd",
        "outputId": "cabde04a-305f-484b-c464-155dee4cd5c0"
      },
      "source": [
        "k_max = 20\n",
        "metrics = get_precision_vs_recall(algo, k_max, True)"
      ],
      "execution_count": 77,
      "outputs": [
        {
          "output_type": "stream",
          "text": [
            "K = 1 - Precision: 0.9011194029850746 , Recall: 0.28369576796300916 , F1 score: 0.43153357135299686\n",
            "K = 2 - Precision: 0.8889925373134329 , Recall: 0.46588208455649227 , F1 score: 0.6113712512632913\n",
            "K = 3 - Precision: 0.8768656716417915 , Recall: 0.5966394196836807 , F1 score: 0.7101063017003711\n",
            "K = 4 - Precision: 0.8785758706467663 , Recall: 0.6629961127132341 , F1 score: 0.7557122122741938\n",
            "K = 5 - Precision: 0.8869713930348267 , Recall: 0.708774325594509 , F1 score: 0.7879232180674383\n",
            "K = 6 - Precision: 0.8808146766169157 , Recall: 0.7414290368787693 , F1 score: 0.805133743986614\n",
            "K = 7 - Precision: 0.8691719971570719 , Recall: 0.7542042946511468 , F1 score: 0.8076171327058174\n",
            "K = 8 - Precision: 0.8750533049040514 , Recall: 0.7833330771900588 , F1 score: 0.8266568098204788\n",
            "K = 9 - Precision: 0.8753087242359631 , Recall: 0.786403984803597 , F1 score: 0.8284780695579633\n",
            "K = 10 - Precision: 0.862411898839138 , Recall: 0.7860589734064681 , F1 score: 0.8224672006870791\n",
            "K = 11 - Precision: 0.8703427532252163 , Recall: 0.7915159723598183 , F1 score: 0.8290598713351691\n",
            "K = 12 - Precision: 0.8710612252589867 , Recall: 0.7947919154022729 , F1 score: 0.8311806158151824\n",
            "K = 13 - Precision: 0.8677863699318927 , Recall: 0.7988668574307658 , F1 score: 0.8319016324298576\n",
            "K = 14 - Precision: 0.8627215498017737 , Recall: 0.8079540900642506 , F1 score: 0.8344401368117267\n",
            "K = 15 - Precision: 0.8729928239256601 , Recall: 0.79956863825285 , F1 score: 0.8346690979255047\n",
            "K = 16 - Precision: 0.8764217850971586 , Recall: 0.8017014537551898 , F1 score: 0.8373981158804894\n",
            "K = 17 - Precision: 0.8672877877841113 , Recall: 0.8018089747879447 , F1 score: 0.8332640114856876\n",
            "K = 18 - Precision: 0.87439554382185 , Recall: 0.8093296821142324 , F1 score: 0.8406054106957995\n",
            "K = 19 - Precision: 0.8658878727920856 , Recall: 0.8099764010382892 , F1 score: 0.8369994561717371\n",
            "K = 20 - Precision: 0.8606825398078837 , Recall: 0.8114017387029838 , F1 score: 0.835315920670416\n"
          ],
          "name": "stdout"
        }
      ]
    },
    {
      "cell_type": "code",
      "metadata": {
        "colab": {
          "base_uri": "https://localhost:8080/",
          "height": 487
        },
        "id": "EfXIHWk2BHfu",
        "outputId": "67ecfbd2-d8b0-46f7-b607-356d36f38f76"
      },
      "source": [
        "# Get data\n",
        "c1 = metrics['precision']\n",
        "c2 = metrics['recall']\n",
        "c3 = metrics['f1_score']\n",
        "x = np.arange(len(c1))\n",
        "\n",
        "# Set up the matplotlib figure\n",
        "fig, ax1 = plt.subplots(figsize = (10, 5))\n",
        "plt.xticks(np.arange(min(x), max(x) + 1, 1.0))\n",
        "plt.ylim(0, 1)\n",
        "ax1.plot(x, c1, marker = 'o')\n",
        "ax1.plot(x, c2, marker = 'o')\n",
        "ax1.plot(x, c3, marker = 'o')\n",
        "ax1.axvline(x = 10, color = \"#8b0000\", linestyle = \"--\")\n",
        "\n",
        "# Chart setup\n",
        "plt.title(\"Model's metrics\", fontsize = 12)\n",
        "plt.xlabel(\"k\", fontsize = 10)\n",
        "plt.ylabel(\"Precision and Recall\", fontsize = 10)\n",
        "plt.legend((\"Precision\", \"Recall\", \"F1 score\"), loc = \"best\")\n",
        "plt.draw()"
      ],
      "execution_count": 78,
      "outputs": [
        {
          "output_type": "display_data",
          "data": {
            "image/png": "[encoded data removed]",
            "text/plain": [
              "<Figure size 1000x500 with 1 Axes>"
            ]
          },
          "metadata": {
            "tags": []
          }
        }
      ]
    },
    {
      "cell_type": "code",
      "metadata": {
        "id": "YuduTqXhXba8"
      },
      "source": [
        "from collections import defaultdict\n",
        "def get_top_n(predictions, n=5):\n",
        "  \n",
        "    # First map the predictions to each user.\n",
        "    top_n = defaultdict(list)\n",
        "    for uid, iid, true_r, est, _ in predictions:\n",
        "        top_n[uid].append((iid, est))\n",
        "\n",
        "    # Then sort the predictions for each user and retrieve the k highest ones.\n",
        "    for uid, user_ratings in top_n.items():\n",
        "        user_ratings.sort(key=lambda x: x[1], reverse=True)\n",
        "        top_n[uid] = user_ratings[:n]\n",
        "\n",
        "    return top_n"
      ],
      "execution_count": 79,
      "outputs": []
    },
    {
      "cell_type": "code",
      "metadata": {
        "id": "PLKSe1ObXcTb"
      },
      "source": [
        "top_n = get_top_n(test_pred, n=5)"
      ],
      "execution_count": 80,
      "outputs": []
    },
    {
      "cell_type": "code",
      "metadata": {
        "colab": {
          "base_uri": "https://localhost:8080/"
        },
        "id": "kMQBUatIXgkl",
        "outputId": "0f2a3005-aa29-4055-f1dc-aa9c765404d3"
      },
      "source": [
        "# Print the recommended items for each user\n",
        "for uid, user_ratings in top_n.items():\n",
        "    print(uid, [iid for (iid, _) in user_ratings])"
      ],
      "execution_count": 81,
      "outputs": [
        {
          "output_type": "stream",
          "text": [
            "ASAE723AV7MYO ['B004M3JTGM', 'B007KYACBQ', 'B003UH4QXC', 'B00957AZPE']\n",
            "A2I7IS0OXGGVPA ['B009RXU59C', 'B0086TY96S', 'B0093IJR6S', 'B00DMZPQIG', 'B00BRI4W1M']\n",
            "AWPODHOB4GFWL ['B00EK3UHS8', 'B004X71HXU', 'B00DKCVO7I', 'B002VPE1NO', 'B00B4FG068']\n",
            "A3DLML1MQIJ302 ['B006J2JJ6E', 'B009HK8TQQ', 'B0092QSQ3Q', 'B00575TN42', 'B0015RB39O']\n",
            "A10ZFE6YE0UHW8 ['B005VBNYDS', 'B000RYSU7O', 'B00GJYJFKM', 'B0085OB0IE', 'B003WM6SOU']\n",
            "A3CAVFN5OWP0BS ['B0058J5OXQ', 'B008DJIGR4']\n",
            "A1PJVW2GSF73E7 ['B000S5Q9CA', 'B004N87OFO', 'B0047KZ1P8', 'B003DQD5CS', 'B00H399HLE']\n",
            "A18EJ44LWWUO11 ['B00CJRZ31S', 'B00E4LAA56', 'B00APLXD62', 'B00FW1DF0E']\n",
            "AS8VENYN17UTI ['B00IRBZZJK', 'B00GAVCNZI', 'B00HVJL4Y4', 'B00AANQLRI']\n",
            "A2DKQQIZ793AV5 ['B00DDLYCUW', 'B00GN6QZ0Y', 'B00GK745L2', 'B00B8M4IMK', 'B00H9HRR1W']\n",
            "A3HOF3J4OUE8PM ['B005SUHPO6', 'B009RXWJ5K', 'B003RDV0VU', 'B008NFN33U', 'B004FKSF5S']\n",
            "A1ODOGXEYECQQ8 ['B0073FCPSK', 'B0073F92OK', 'B00C13YSIO', 'B00FAADBHO', 'B00H3IBEGG']\n",
            "A1OGCPMSIVK7G4 ['B0054ENBBM', 'B007FHX9OK', 'B009HD44US', 'B00EV8Y684', 'B00BT7RAPG']\n",
            "AYB4ELCS5AM8P ['B00DWKK6PE', 'B00CPK7U60', 'B00DRDZ08Y', 'B00A533DWO', 'B00B1UQBGA']\n",
            "A3HJOKYEV152QJ ['B008DJIIG8', 'B006YCORR0', 'B0094AHQ6S', 'B008410J4E', 'B008L73Y3Y']\n",
            "A2B7BUH8834Y6M ['B009TSNK5G', 'B005LKB0IU', 'B003Y74KCK', 'B00BOLCU7A', 'B007JPSEP2']\n",
            "A215IN14OKAE2T ['B000HBMP82', 'B00B9N6P5G', 'B002EWPS3G', 'B0064WFFT4', 'B006INU0TO']\n",
            "A1V5TRJXTI6F01 ['B005NGKR54', 'B00383M0UE', 'B002BH3I9U', 'B004CU1VW0']\n",
            "AEAFHD09X8044 ['B005Z2B8QS', 'B00COPRHT6', 'B004MF3IA8', 'B008HR43ME', 'B000RZFNN2']\n",
            "A2LB4FLRZG6CUV ['B008LE7XD4', 'B00849E1CM', 'B0092QSQEK', 'B00E4LAA56', 'B00B087YQY']\n",
            "A3K6MC8NUGAY7C ['B009S13392', 'B003PU01M4', 'B009N5OX2E', 'B00DXG4V80', 'B00DD6I6IG']\n",
            "A3AYSYSLHU26U9 ['B000S5Q9CA', 'B00A533DWO', 'B00HI3HQWM', 'B00H4WNRZ2', 'B00BFQ9R0W']\n",
            "A38RMU1Y5TDP9 ['B00DVH62J2', 'B009LRNT1A', 'B00BAWSOD2', 'B0052CHOS2', 'B002LZDK7W']\n",
            "A1R6RKKE44AYA8 ['B00752D972', 'B00CI38Z8G', 'B00BQ3HY1I', 'B00BJS9B98', 'B00CBTZ2AG']\n",
            "A2IKMRNKQ12ZPT ['B008YRG5JQ', 'B0081AHL7G', 'B00FTULQJU', 'B002UNKGMC', 'B00A81H176']\n",
            "AVPNQUVZWMDSX ['B00EI8SS4U', 'B001GD87QO', 'B00G5K3B46', 'B00CIRLLBK', 'B00FK0ECYA']\n",
            "A2LTYEYGKBYXRR ['B00D64PN36', 'B00EJ4CE84', 'B00JR155GM', 'B00IBJ3MT8', 'B00GDQ6DG0']\n",
            "A34GB2ZA1JLGND ['B00727AODC', 'B00CLXCRPA', 'B001TC6NPE', 'B006BBK46M', 'B00BMRXWHI']\n",
            "AEJAGHLC675A7 ['B002QKZLZ6', 'B00BR772P6', 'B001DETCUG', 'B008MOHLVC', 'B001R5KQGK']\n",
            "A1ZU55TM45Y2R8 ['B005PT14FQ', 'B0055Q5F36', 'B005DTSBEU', 'B0089QBAHE', 'B00H5G9G8Y']\n",
            "APRNS6DB68LLV ['B00E2YI052', 'B00G5K3B46', 'B008R97TOQ']\n",
            "A2BYV7S1QP2YIG ['B00CPK7U60', 'B00KGU9UHS', 'B00GNVEY0W', 'B00EI8SS4U', 'B00IP8V7Z6']\n",
            "ABFW2X0CMQM24 ['B0030C4K8I', 'B00351LTOM', 'B004CU1VW0', 'B005AOKW8Q', 'B001WAACYG']\n",
            "AZ5LAA4N0HUWY ['B00COYOAYW', 'B00409E4JK', 'B00A3N22C8']\n",
            "A1J75JJ0Q2OEJN ['B001LKZNMI', 'B00GFTFG6S', 'B00FH669I4', 'B008D57412', 'B005PUZO92']\n",
            "A3QNQQKJTL76H0 ['B00EB1BY36', 'B0080AWCTY', 'B00ISFNSBW', 'B009RXU59C', 'B0048IZL5E']\n",
            "A3BWV0LIHLI4FI ['B0076MFMTE', 'B00A48IZTQ', 'B00DTRTPJI']\n",
            "AILWN0QU28S1Y ['B004CRLVEQ', 'B0058RWPTY', 'B00E46EASO', 'B002WWB4A4']\n",
            "AC9QEWWN4W9MC ['B00DVH62J2', 'B00861BX7E', 'B00GTGETFG', 'B00BL4N9RK', 'B0099YAY3G']\n",
            "A2E86GN7S2221D ['B008PBA88A', 'B006NQONRG', 'B0095DUI3C', 'B00IEFY5JK', 'B00JFRR6RY']\n",
            "A2RK3CB7LX9ZL8 ['B0044N7PXE', 'B007HVRXKK']\n",
            "AEC90GPFKLAAW ['B00BT0AKKU', 'B00CD972XO', 'B00JCVPTSQ']\n",
            "AO09RWV40IX78 ['B00ANALDWQ', 'B00IL7BFFI', 'B00I6BJ592', 'B00FH66AW4', 'B00FEPDRF6']\n",
            "A1OZ7I3DESX9NP ['B005IMB5NG', 'B0090YGJ4I', 'B00D6ZVNUC', 'B003TSP302', 'B0081V55SM']\n",
            "A1UQBFCERIP7VJ ['B00CKZ70TM', 'B00E2TT8W6', 'B003ZBZ64Q', 'B00BFQ9R0W', 'B00GLIBGW6']\n",
            "A1X1CEGHTHMBL1 ['B0052YFYFK', 'B000J4HCBM', 'B004Y0R9DI', 'B00COB1YNU']\n",
            "A17V9XL4CWTQ6G ['B00GN6SC7I', 'B00F4EONR8', 'B00IER1ZP0', 'B00CJJ4OUW', 'B001B1RT10']\n",
            "A33152QEGO2MZN ['B0073FCPSK', 'B001L84QGY', 'B003U4K58K']\n",
            "AL4YOB7KRVQ9W ['B00A4BEMCW', 'B003M2Y3UQ', 'B009CE526W', 'B00FW1GE9S', 'B004CML1KU']\n",
            "A2IJ276VBT3V7S ['B0090NHGBO', 'B0006B3QY0', 'B005FCBH7S', 'B001EN2ZNW']\n",
            "A1F7YU6O5RU432 ['B005SUHRVC', 'B00IX2VGFA', 'B00G04ZHEY', 'B008ORTPMA', 'B009X9ZBRQ']\n",
            "A2NB2E5DXE319Z ['B00JWY5TRY', 'B009M27MBC', 'B009URTOJW']\n",
            "A1T1YSCDW0PD25 ['B00IX2VGFA', 'B006IJJH7O', 'B00DWKK6PE', 'B00K0N2FJG', 'B005FPT380']\n",
            "A250B73BJZ408E ['B005SUHRVC', 'B004AJ8PG8', 'B004WMDTHS', 'B009PFE142', 'B003YKRAZ6']\n",
            "A1901NTE8LFJF6 ['B00CTVIWQW', 'B00EZD91YO', 'B0061QPOS0', 'B008P20J0Q', 'B00D6OESG4']\n",
            "A3DWO5RJDA430F ['B00081GX8O', 'B006X9XN9W', 'B006IRPV9E', 'B0049Y2PIS', 'B00FJ1XBA6']\n",
            "A22GY3E2XPRQUE ['B0091XI1SU', 'B00BVKH1L4', 'B008EU7HRM', 'B00A4GP5ZA', 'B00979M0LW']\n",
            "AKLLE6W7SKTKX ['B009VA8ODU', 'B00702SJVS', 'B004ZP72MK', 'B006OAXETE']\n",
            "AAOLNBV6A9094 ['B004QS84UU', 'B00F4EONR8', 'B005JS4U0O', 'B0026IC8JU']\n",
            "A2NPOQXJDJVN0W ['B005X0UJS0', 'B00EOTLZLQ', 'B0097BEFWC', 'B0018YSDKG', 'B004E30BIA']\n",
            "A2F4FJ3BIZ68GJ ['B009SY5FVI', 'B008F16J88', 'B008PXMWIW']\n",
            "ABDR6IJ93HFIO ['B000S5Q9CA', 'B009RXU59C', 'B00K0NRVNG', 'B00HUEJ25I', 'B00JR155GM']\n",
            "A36Y6BFEEGBP5X ['B0048NVI5Q', 'B007N58VQA', 'B007DAJONO', 'B0069XXI5Q', 'B005VNJS4A']\n",
            "A18MBO1U4DPY20 ['B006YJBITS', 'B000FSJYQ8', 'B0032JTPMU', 'B00933N22S', 'B002N57T72']\n",
            "A29HN98I73AT0A ['B001UB279A', 'B0084F4HY8', 'B0085X38WQ', 'B0079CIEZA']\n",
            "A2CDEOM9RZMI74 ['B005CHHZH2', 'B003VQS47Q', 'B00D9AREZC', 'B007RNYU2C']\n",
            "A3VRLPNRXFB1OY ['B000SMXLYC', 'B00575TN42', 'B007MPFV3C', 'B003V17N7I']\n",
            "A1NGYBTJ5Y15Y7 ['B0000ALPBP']\n",
            "A2SLM5PQCKFC0Z ['B00ES2BQ7M', 'B004NRAYVQ', 'B008GN0JAY']\n",
            "A23GFTVIETX7DS ['B00FQVNYR4', 'B00HGZ247O', 'B00GS5ULKK', 'B00JZTI6MQ', 'B009ANUM9C']\n",
            "A3TZEKXYJ9KC0M ['B003RDV0VU', 'B00CHL93YE', 'B004CD86IE']\n",
            "A3NL4I41MB9E91 ['B0082YH2MU', 'B0081HBX2I', 'B005BZVS9G', 'B00ENOBLGQ', 'B00840RY52']\n",
            "A2DG63DN704LOI ['B00B1UQBGA', 'B00C13YSIO', 'B00HVORE3Y', 'B00ANALDWQ', 'B003FMVCRU']\n",
            "A1VAUKYQDX4H2E ['B007PY5MO8', 'B00FZJF59M', 'B00A3NIFM4', 'B00A8YWDRG', 'B0090YGJ4I']\n",
            "A2NYK9KWFMJV4Y ['B00KEGYXRQ', 'B00F4EONR8', 'B00ELCP55I', 'B00IP8V7Z6', 'B00BT1BQEI']\n",
            "AHZYI1KAJSQP6 ['B008OHNZI0', 'B00D94RCV4', 'B00278ZQBQ', 'B00B17BE6K', 'B002Q6GGZO']\n",
            "AUYVMLI0CBMYS ['B004BWKIRI', 'B0097BSRKS']\n",
            "A2ZKQC0XCIIAEM ['B00GN6SC7I', 'B00IX2VGFA', 'B00E327OIM', 'B00GN6M85K', 'B00HIUL1JO']\n",
            "A2GAADJ9YMV9EU ['B00IF5B2R2', 'B007FH716W', 'B00DE035N2', 'B00EZW9UXW', 'B00FEQU1NG']\n",
            "A29UU4S27N5HO6 ['B0098FKHA6', 'B008ZZY9C2']\n",
            "AIFLY2HF8NS8U ['B0055PTUE2', 'B00IMZKDOS', 'B00FGR5XKE', 'B005LISQ0W', 'B00DUTIZJG']\n",
            "A1LP37SX3W7N7G ['B00IZ1WUNG', 'B00I3UWD40', 'B004KPTVUG', 'B007HBOP5G', 'B008QBFD2K']\n",
            "ASTJR9Q07MHDO ['B008APH5D2', 'B00DI3EY26', 'B00AVX67O4', 'B00D034S8E', 'B00DTGTKI0']\n",
            "A1L2S18BTJE1BZ ['B004BY7N06', 'B00CYV0IAA', 'B008FDJTI8']\n",
            "A1NU6IMKDNULLW ['B00CWJNY28', 'B00BYG38JO', 'B00BOHOFWW']\n",
            "AZMY6E8B52L2T ['B00CLDD4PC', 'B00EK3UHS8', 'B00DHEE0ZW', 'B00D64PN36', 'B009SAG02A']\n",
            "A22CW0ZHY3NJH8 ['B0073F92OK', 'B00D64PN36', 'B00GJYJFKM', 'B00FZUM01W', 'B00DFN03KQ']\n",
            "A3PNMCK6I6ZWPC ['B00CYHHDBG', 'B00DJRA35I', 'B004KGIZW0', 'B0084QKMFU', 'B00CGS7HF0']\n",
            "A2J7FHZFKOKGZ6 ['B003I8Z12I', 'B007K3R9Y0', 'B004D2CJ14', 'B004IWVKUU', 'B009AESSQU']\n",
            "ARZ2ULVGNONGX ['B00FYGJOFC', 'B00C1SC0WK', 'B00A2XFECE']\n",
            "A1PTBXZG04GT29 ['B00GN6SC7I', 'B00AANMVNQ', 'B00DFN03KQ', 'B00AWIPITS', 'B00EU79YH4']\n",
            "AMC08VENZPGHT ['B0044WTQVE', 'B006T8JT3Q', 'B008HY727K', 'B00BP9EYJI', 'B002BSO4ZG']\n",
            "A1XJOSJN6FHFO0 ['B00E2TT8W6', 'B00IP8V7Z6', 'B00GN0AO34', 'B00FF3MCTE', 'B007R29HVC']\n",
            "AHR2E9TC9IGEP ['B009339N08', 'B00A29H048', 'B00A7I94TS', 'B009M5J9HY']\n",
            "A38C12950IM24P ['B00DKCVO7I', 'B00IL1DJCQ', 'B00GXMTHB2', 'B00FRB90AI']\n",
            "A3JU2ZJDO2GNWH ['B006VQ6QYQ', 'B006H9Z6DO', 'B005S69CPK', 'B007F8XJMG']\n",
            "AAEVGE52KL0DJ ['B00HR1TZ92', 'B005MGUTW6', 'B00DFN03KQ', 'B00AWIPITS', 'B00DTSGRD4']\n",
            "A3NHUQ33CFH3VM ['B00F7CW1BC', 'B00GAVCNZI', 'B00FAADBHO', 'B00JDAIMQ2', 'B00CJRZ31S']\n",
            "A3LDPF5FMB782Z ['B00ASHDYJ4', 'B007MPKDQ2', 'B00F5LQMGK', 'B00CO8GS66', 'B00GOK6LEE']\n",
            "A33YZNZIRA3H97 ['B009V5X1CE', 'B006MK0ZD4', 'B008HK3W1Y', 'B006E7UTFO', 'B00FZ862KY']\n",
            "AM3XNQU9TZBD8 ['B00F9VRNF0', 'B002WB2P76', 'B009VYN79C', 'B007VL90QG', 'B005TDWT4I']\n",
            "A340XBMT0KBWYW ['B0073FCPSK', 'B009WETYFC', 'B00A7G87W0']\n",
            "A3KKP755K3XMGX ['B00BD6XTDK', 'B008GWIVTQ', 'B00CP8OD3A', 'B005R4HSRW', 'B009WTGZIQ']\n",
            "A1QZJJXKXF6CWC ['B00DH0JL2S', 'B00GIVSZVG', 'B00CXFMZPS', 'B005DMBSVA']\n",
            "AHQRU3MRORIWQ ['B005SUHPO6', 'B005OW4AWS', 'B005SUHQBS', 'B00HCNHH2W', 'B0040X33SE']\n",
            "A3CW0ZLUO5X2B1 ['B005FPT380', 'B006YJBITS', 'B008HK3W1Y', 'B008RIRXFW', 'B004IUZPTY']\n",
            "A3CJ3DKELFXX59 ['B00D94RCV4', 'B00974L0EA', 'B00HYSFQXC', 'B008SGIQYK', 'B0087YL410']\n",
            "AWDUE8YBHNNEF ['B002ELRJJI', 'B003UD9ETW']\n",
            "AKXDZEBFFCAWA ['B008DJIIG8', 'B0057LM18Q', 'B005BHDEMS']\n",
            "A1U11IP6K6NHAK ['B00AWWJMFA', 'B00AW2QT8I', 'B00CPK7U60', 'B00BWUXP9K', 'B00KHV6TIE']\n",
            "AHY3LIK8QYUY ['B00896EZB2', 'B00CXZHXTG', 'B00B26ZSL2', 'B008GMYY0G', 'B00I3ULLJS']\n",
            "A328S9RN3U5M68 ['B00GLIBGW6', 'B00CKZ70TM', 'B00D64PN36', 'B00IMZKDOS', 'B00F4EONR8']\n",
            "A3UKWQS8SRW6IO ['B009PLBLQC', 'B00BN7XNQW', 'B00HFEJM62', 'B004M8ST4A', 'B001DN5030']\n",
            "A1D0PLAD8CNQT3 ['B008LE7XD4', 'B004XXMJV8', 'B009YAN8K6', 'B0079VMD76', 'B00404UR3C']\n",
            "A3UZNR6I1YMMXB ['B00IT67MCQ', 'B00962OR5M', 'B003NBTU2M']\n",
            "AAOYA0DKWED4W ['B00JV1GLTI', 'B00E2TT8W6', 'B00FJJ38HY', 'B00ITW7EBE', 'B00JVVZS38']\n",
            "AEWYUPCNDV7HY ['B001QFZ81Y', 'B0027FFZEW', 'B00ANALDWQ', 'B00ESJGILE', 'B009WO3H3M']\n",
            "A9JNYZIVHJ8B2 ['B00896EZB2', 'B0085BD0Z8', 'B0085XZ57W']\n",
            "A2Q4BL0E6WZSTE ['B005T0DTOU', 'B0071U4T40', 'B005JHJQIG', 'B00D7MOHDO', 'B0059DLLJC']\n",
            "A1O09K4R0YVN3 ['B00FEQ1428', 'B004TBY6YW', 'B00F36CSS8']\n",
            "A1E1LEVQ9VQNK ['B00DV1KFBY', 'B0073F92OK', 'B00EB1BY36', 'B009TCUPIC', 'B009SAG02A']\n",
            "A3PCEB9ND82AGE ['B00E45043A', 'B00AGABISW', 'B005K7192G', 'B0006JI3K4', 'B007JWXG2Q']\n",
            "A145B8OHVNNFAJ ['B00E2TT8W6', 'B00D64PN36', 'B00G5K3B46', 'B00E2YI052', 'B00HIUL1JO']\n",
            "AJQV53JI74SF1 ['B005IMB5NG', 'B005LFXBLE', 'B009B06VXU', 'B008YJ9K3M', 'B0075Y7DFY']\n",
            "A22PQ5PUUWD4U2 ['B00CGEXPD2', 'B004K2EJ7O', 'B008HPAFX2', 'B007VFR1XG', 'B008AST7R6']\n",
            "A4G46Z5D8HWP1 ['B001BZH2QI', 'B004V4CD1K', 'B002VYO99Q', 'B001SEAOC6', 'B001UO45SI']\n",
            "A3DTVMQGMNLX26 ['B00ATNSFDW', 'B00FA5OV8W', 'B00574S96G', 'B00DM9E44O']\n",
            "AX05DBU8IRUWY ['B00C13YSIO', 'B00E327OIM', 'B003ZBZ64Q', 'B00CXZHXTG', 'B004A7Z428']\n",
            "ATFBVUXDIRXT6 ['B0093IHVJI', 'B005DIH1IS', 'B00ENZRQ96', 'B00428N9OK']\n",
            "A27IN57YAPDJ8S ['B00BQ0US14', 'B00CO8GS66', 'B007ZWK7PE', 'B0087142BW', 'B00DEQ8DQA']\n",
            "A3G8GD1KTLFBLP ['B0050FDFQQ', 'B00ANGOJ44', 'B00856XB70', 'B007G51X6C']\n",
            "AGGAQLXPVGM5D ['B001CL2CKW', 'B004E10KFG', 'B0060FQR5G']\n",
            "A3V5F050GVZ56Q ['B00DRLA5OU', 'B00DV1KFBY', 'B00IX2VGFA', 'B00EK3UHS8', 'B00GBFQWEG']\n",
            "A39JCCW251FGN1 ['B00B7FQR04', 'B0015RB39O']\n",
            "A3B1360JOYS0GJ ['B004CQ0IX2', 'B004XVFSC2', 'B003XNW7PM', 'B005D5P89U', 'B005CPD7RQ']\n",
            "ANW6EGY12V5XS ['B002ZX695U', 'B003URO40C', 'B004FCICZY', 'B00590GH8K', 'B0092MD8OW']\n",
            "ARBKYIVNYWK3C ['B00BT8L2MW', 'B0093IHVJI', 'B006U0X7UY', 'B0007N08NO', 'B004DHV84S']\n",
            "A301Z8IOK3T238 ['B0085JRQG4', 'B0044WTQVE', 'B00A8RUZEG', 'B00A21L2WM', 'B009DPR8GW']\n",
            "A18U49406IPPIJ ['B00B1UQBGA', 'B00IX2VGFA', 'B009ZNI5R8', 'B0092HOHK6', 'B007HUTXV8']\n",
            "A3MFORLOKIOEQY ['B00CO3HCSY', 'B009W2M3SO']\n",
            "A395TSYH5M1OP5 ['B006QH7JKA', 'B0076YVKJS', 'B000EF3D4G', 'B00BOYTSKY', 'B000VVDEJ2']\n",
            "ADLVFFE4VBT8 ['B00DWKK6PE', 'B001GD87QO', 'B00FXWASY8', 'B00DE946G8', 'B008YRG5JQ']\n",
            "A1RMSQIE5CPV1C ['B006SK5FYM', 'B009ABEA7E', 'B004WJURQ2', 'B00JW7APWU']\n",
            "AZ26JNIF8SQ6I ['B0051ZJA64', 'B004692V26', 'B008GGAM9E', 'B000KKKI0M']\n",
            "A20XZBY5NX1NBT ['B00C6LJXPE', 'B004T36GCU', 'B007KGZHF0', 'B0087SAABG', 'B003XDS12K']\n",
            "A3A4ZAIBQWKOZS ['B00IX2VGFA', 'B00FYVBO5U', 'B00HR1TZ92', 'B00GLLAMFA', 'B00BD4BLM8']\n",
            "AUGXK02BJ3GP9 ['B00A533DWO', 'B005HBAJ1C', 'B008EPW2AE', 'B00ITI24EK', 'B004HM37Q6']\n",
            "A3DOPYDOS49I3T ['B000GAO9T2', 'B0041D81WG', 'B007B5UJYO', 'B00FH6QTJ8', 'B0007RIXX2']\n",
            "ATOKT8QYK967L ['B005FPT380', 'B00BL7AHAO', 'B005T0DTOU', 'B00ESJGILE', 'B004O6347M']\n",
            "A1L1SZ3FG1FMQ ['B00IKRHCCY', 'B005P0GX8S', 'B00CQ0YTFO']\n",
            "ACJT8MUC0LRF0 ['B00AWWJMFA', 'B00E2TT8W6', 'B002D4IHYM', 'B00F3SIQKK', 'B00DKCVO7I']\n",
            "A2RLPYOQDA46LZ ['B0041D81WG', 'B008LWDX6M', 'B008BK0MSG', 'B0009B0IX4', 'B0088LYCZC']\n",
            "AV10H5K6VPQIJ ['B00A7BPMMS', 'B002ATF1KS', 'B00AA5CK6M', 'B0059YUR96', 'B004L3A7KU']\n",
            "A24RCBRDXRXR0Y ['B009APBZMS', 'B00ANALDWQ', 'B004I8WD7S', 'B009APBZVY', 'B008M11Y8Q']\n",
            "A2WHVEFYI431UI ['B0047EOBRS', 'B004T0GHOU', 'B0057LM18Q', 'B003JVG1H8', 'B00CLA1N44']\n",
            "A6WZVL0SRQAPY ['B00E2TT8W6', 'B00FQVNYR4', 'B007R28B50', 'B00E2YI052', 'B00EU79YH4']\n",
            "A25J6KUMQW7IV6 ['B00CBXIDM6']\n",
            "ABBH3KBEZ310X ['B008UQ8CYM', 'B00933N22S', 'B0094CX0PW']\n",
            "A2L9OPJAAEK08Q ['B009X25Z10', 'B0093TSSGW', 'B0077IQGVU', 'B004EBNFF8', 'B003XNW7PM']\n",
            "A1RZ77T1M1VTAG ['B008APG7MW', 'B003QSYK2C', 'B004J1SVXE', 'B0093U71K0', 'B004IN008C']\n",
            "A1ZTR0FR5AW9B4 ['B00EWUMAKC', 'B00CXAKL1S', 'B0030T0ULW', 'B007N109BY']\n",
            "A1XID5IBZ9H4H9 ['B0085JRQG4', 'B008LFTCAK', 'B006OF2BKW']\n",
            "A2OOBVB2RQP76N ['B004IAJIHE', 'B008A0WPR8', 'B008L1PCI0', 'B00CCEJ6MK', 'B008CF9F9C']\n",
            "A22S7D0LP8GRDH ['B0094CX20U', 'B00FG25TOE', 'B000WKS8QG', 'B00ESJGNWS', 'B0094CX3CC']\n",
            "A3VVMIMMTYQV5F ['B0099LATZ2', 'B00FUXV6QO', 'B000WR81ZM', 'B00BQ2Y3TA', 'B003XTH5FS']\n",
            "A2W369YLXCY4PL ['B00D66K190', 'B007958CX6', 'B0041V15OO', 'B004IEWXSG']\n",
            "ABXANRX4GPYRZ ['B0089VO71U', 'B000PQJDF2', 'B001BZH2QI', 'B009ZT2C9Y', 'B00DKXXLNC']\n",
            "A1TTA35U4QNYG7 ['B00410UOQK', 'B008CUEHQS', 'B0069SZ3PO', 'B007TC52ZA']\n",
            "A1LM4PSE0HJQDW ['B00BQ3FZ9G', 'B00DDLYCUW', 'B007FHX9OK', 'B004VQ9CD0', 'B00BMXTI0C']\n",
            "A25VM2WN7OPYR4 ['B004UYPN18', 'B005LOMWI8', 'B003HC8NUW', 'B0076GM76G', 'B002C4VTEI']\n",
            "A6VXZ1EEPRTLV ['B00BT0AKKU', 'B00ELVA6F8', 'B00ELCP55I', 'B00CEURAWA', 'B00KEGYXRQ']\n",
            "A56AUIA2KJ3KQ ['B00IO8NI0Y', 'B0064127G4', 'B003FMVCRK', 'B00BRPSOE6']\n",
            "A1TOSKNQT9573 ['B00H3YIFZI', 'B00HQZU8G8', 'B00HYR17JA']\n",
            "A3T4OHEAHOJ700 ['B0007N08NO', 'B00GAQ8938', 'B005NXANUG', 'B0092KJ9BU', 'B005G606O8']\n",
            "AUAOK1W5GBO6C ['B000S5Q9CA', 'B0053URWX0', 'B003WUX75A']\n",
            "A1EH2S92FHWZRP ['B001LRPN0S', 'B004YZI1T4', 'B0039S23HS', 'B0029ZA2W0', 'B007G51XOO']\n",
            "A36EWHJIBQEQRZ ['B00DCICXMU', 'B00DD5TW3A', 'B009KT4ONQ', 'B00C91Y15S', 'B00FTULQJU']\n",
            "A3JLR9OQT78CTD ['B009DRLCXK', 'B00ISA6KC6', 'B006H4DQZ4', 'B0016PVVBK', 'B004H23JXW']\n",
            "AR4Y501FFAJHM ['B00B1UQBGA', 'B00C7JIBN0']\n",
            "A10UHQH1YL5Q6B ['B005IMB5NG', 'B00BYJMJ5A', 'B008N7TTLS', 'B005I1WAJK', 'B0058RWPTY']\n",
            "A11T807LX2EF00 ['B00BL7AHAO', 'B006C248BC', 'B004CLYIZG', 'B003Z3CUH0', 'B00BWG4TUI']\n",
            "A2Z9S2RQD542CP ['B00CH3FJFO', 'B00C9RNP9K']\n",
            "AGYBSEOZESADQ ['B00IEFY5JK', 'B00IMPC2II', 'B007G4PD3M', 'B003115AGY', 'B00ATHLUTO']\n",
            "A25C2M3QF9G7OQ ['B00CPK7U60', 'B00AT5W8SI', 'B00FRHQJ4C', 'B00HHEAMXC', 'B00F4EONR8']\n",
            "A2QIHQ4HE4G9HE ['B008DJIIG8', 'B004N79HGO', 'B004Z10RQ2', 'B001B8YNA8', 'B00GSIKPGM']\n",
            "ATZ4ETDUWDY5C ['B00B2AM16I', 'B00CIXETS6', 'B00AV3XH6U', 'B00CJY90RE']\n",
            "AIJQU979J6UFY ['B007Z419BI', 'B000O2X2OU', 'B001P05K9K']\n",
            "AIH05X9KBQWX4 ['B008OK8IIY', 'B001F7VN6M', 'B0052QGRL8', 'B004055HL8', 'B00CUQJ6IE']\n",
            "A2LXX47A0KMJVX ['B00B9BUZW2', 'B00CSDMWGW', 'B007T3ZZAQ', 'B00C5HNMDS']\n",
            "A2AY4YUOX2N1BQ ['B00FAADBHO', 'B00DRLA5OU', 'B00AW2QT8I', 'B00HQ2GWKC', 'B0001DVQNG']\n",
            "AUC1ZSR0NOWRH ['B006CBH0QI', 'B007XP9BLY', 'B00ELOYTM6', 'B004063YOY', 'B0059DLL8I']\n",
            "ATX7CZYFXI1KW ['B007QH578U', '120401325X', 'B004JBLCH6', 'B003TO53Z6']\n",
            "A38XDB9UXYRHCJ ['B00BJS9B98', 'B0099YAWWO', 'B0035R2QS4']\n",
            "A3LF2DIRG6LW2M ['B007PY5MO8', 'B009AGAFGO', 'B008V9CNX4', 'B005VNJZ0C']\n",
            "A3872Y2XH0YDX1 ['B009T8YXCA', 'B00B1X2PXU', 'B008VX489C', 'B003VYBCAY', 'B0040MNJPC']\n",
            "A3GKH4EECUO494 ['B009PFE142', 'B009W2M3SO', 'B008PTQ8I6']\n",
            "A7Z2J9V37ABCO ['B00EV8Y684', 'B00ESJ43FW', 'B00GH0JXAK', 'B0096U26QQ', 'B004YELD6I']\n",
            "A3SNZPUALWI73A ['B007F8XJQ2', 'B008GUBZQO', 'B0090971VS', 'B008M0NS4U', 'B00HPMB38Y']\n",
            "A1OZZ1VZHN9QRO ['B0064REJ3C', 'B00G5FWY4O', 'B00FFVK5YA', 'B00GONW5JG', 'B00H4E96AA']\n",
            "A3FYE5CAGQ0RUG ['B00AOK2PT0', 'B00C842Z04', 'B00IF5B218', 'B00DBVV8QA']\n",
            "A1MRPX3RM48T2I ['B000RF4PNG', 'B0048CEFZM', 'B004K1EDEO']\n",
            "A11I1I9QLMAM1A ['B0094CX3CC', 'B005LFT7BW', 'B004Y05F70', 'B00FHREO8K', 'B005PUZO92']\n",
            "A3L8RJWTSAIRVZ ['B009UXY2RU', 'B00EDB938C', 'B005FC0JRC']\n",
            "A1DG75OT3Y49EM ['B00CO3HCSY', 'B0063J9F6C', 'B00F9OQRZE', 'B00FEPDRF6', 'B009WO3H3M']\n",
            "A1G650TTTHEAL5 ['B00C40OG22', 'B00AANQLRI', 'B00ELCP55I', 'B00AJG3NK4', 'B005LLE47S']\n",
            "A2PZXXPGLXXKZU ['B003XDU8OO', 'B00CJY8ZSO', 'B007ZL0S7C', 'B00DVKORUU', 'B0053Z8XCO']\n",
            "A2BLFCOPSMBOZ9 ['B006YJBITS', 'B00GN0AO34', 'B008UV6YRO', 'B000O2X2OU', 'B00GT49J2Q']\n",
            "A3LT1PMUS0SQJD ['B00A47VZGC', 'B009A5204K', 'B004IN00A0', 'B00BT7RAPG', 'B004TEYP0Y']\n",
            "A3ITZ5GXB7GUXO ['B004QWOSLK', 'B00ATL6OOG', 'B00A82U7CG']\n",
            "A1EVV74UQYVKRY ['B00FAADBHO', 'B00IMZKDOS', 'B009ZNI5R8', 'B00GN6M85K', 'B00C96CDBM']\n",
            "AY28L9U9QA9RJ ['B005XQSN9G', 'B0090X2OJS', 'B008PF1YPW', 'B004ZEZD2C', 'B0087GANO2']\n",
            "A1J3OU6M7U7C3P ['B000Q9DWXM', 'B000Q9DX0O']\n",
            "A1KCUIY8RTA0RT ['B008O1A4KI', 'B009CNONOA', 'B0055S2F2I', 'B0050Y3GF2']\n",
            "A3M6L13YZ8IUYJ ['B0041V15OO']\n",
            "A2S26YGSVXBCFL ['B0007N08NO', 'B00B59NKRK', 'B009A51Y1U', 'B0041D81WQ', 'B0057WXF6C']\n",
            "A2K8P3PA7N6392 ['B005NC86BU', 'B0078WR4KW', 'B005ZG0342', 'B003SHZ27S', 'B00D30TTOM']\n",
            "A3TFJE04LTJDLI ['B005O5WSTW', 'B0071AQOHK', 'B00F8JEVOY', 'B0071AQNVW']\n",
            "AKR1784RF0DSA ['B008IOQ3K6', 'B0089F2ILM', 'B00HWP9HG4', 'B00212HNA0', 'B003ZX7RL4']\n",
            "A3VX6XTUNNVUUB ['B0075AWA0Q', 'B009IF5HBU', 'B008ELG5V0']\n",
            "A3KEXH6VH8CO7 ['B003JP7GN2', 'B005OTXKK4']\n",
            "A24KP9Z9CO8JJV ['B004NRAYVQ', 'B0042DS4JK', 'B00C7D6BME']\n",
            "A3NOBH42C7UI5M ['B001N2EU64', 'B007BTV2NW', 'B0000E3GWH']\n",
            "AT53ZTTO707MB ['B00CKZ70TM', 'B001UB279A', 'B00DFN03KQ', 'B00GDQ6DG0', 'B00HICP2OC']\n",
            "A34BZM6S9L7QI4 ['B00C13YSIO', 'B00DQCUVPI', 'B008GVL9YQ', 'B0060N5F38', 'B008Q24UNM']\n",
            "A39R50D6VCQI8R ['B008TLQ5RY', 'B00CBTZ2AG', 'B00C4MG9I4', 'B00BPDYVDS']\n",
            "A3R19YKNL641X3 ['B00E327OIM', 'B00K4NVRR8', 'B0093IHVJI', 'B007IMPTNQ', 'B00H9MVEI4']\n",
            "A2KP65JS3YY5VL ['B009VKSVTC', 'B00A00LF22', 'B005YW27SC', 'B001I45EGC']\n",
            "A300U9M6DPRP1O ['B00ABPKHH0', 'B00A55Q2HA', 'B00CBSZKZO', 'B00BWSYF3W']\n",
            "AUEY946M1L939 ['B00HZWJGS8', 'B00FQVNYR4', 'B00BFQ9R0W', 'B00D64PN36', 'B00DWKK6PE']\n",
            "ACINEJJM8E0D4 ['B00ELCP55I', 'B00AIKTBS4']\n",
            "AC3VHAO5ZVJTF ['B005EGD2AU']\n",
            "A2XX2A4OJCDNLZ ['B00EJCTFI8', 'B00BR26HNE', 'B007P4XIV2', 'B00CSJ8ZFS']\n",
            "A3GFQHHVMEAIO ['B0006HES2I', 'B008BAU14Q']\n",
            "A1BJOHHLG0D965 ['B0043M668G', 'B008VOPF8O', 'B007FHX9OK', 'B009ZNK5MQ', 'B00352LW4I']\n",
            "A2FKXU13USTGK0 ['B006JUMOU4', 'B007QH578U', 'B008KKOGRA']\n",
            "A2VLK6XOHPVIXY ['B008D4X4GW', 'B00BW0XZO0', 'B00BQ3FZ9G', 'B00D5X5BFS', 'B008EOXKXI']\n",
            "A1PBO07IVTPS6W ['B0090YGJ4I', 'B007O3NIKU', 'B00HUGYIYQ', 'B008MRGBZG']\n",
            "A4PYOAQ2GH8FQ ['B0088U4YAG', 'B0048IZL5E', 'B00B4L50GI', 'B009384E6G', 'B0091SD3CE']\n",
            "A2XRMQA6PJ5ZJ8 ['B00IX2VGFA', 'B008OHNZI0', 'B001CJTE0K', 'B00002X29G', 'B004E10KFG']\n",
            "AI8ZHTJ1JX1R3 ['B0073FCPSK', 'B007FH716W', 'B0089VO7RY', 'B008CZNAMK', 'B00A95PN6M']\n",
            "A19W47CXJJP1MI ['B003WM6SOU', 'B0049SKHYS', 'B00F9VRNF0', 'B008F05WFK', 'B008ULPBJG']\n",
            "A34LXQ9YBD2IZT ['B0060ADF88', 'B00COCYDA0', 'B00CO056WG', 'B00B6SY1H8', 'B00ATHLUTO']\n",
            "A3IBN3HJ4PGRBF ['B00AJHUNZ6', 'B005WF9OHI', 'B005LGUCRE', 'B0067RJ83K', 'B006HZLJNY']\n",
            "A2P6FZ84SXSANO ['B0052YFYFK', 'B006FEBZRC', 'B003TM5AJM', 'B00GNIFU7Q', 'B004Z9WIVQ']\n",
            "A18N6P1LXMTLZ0 ['B00CBT8A14', 'B009C5Z0IG']\n",
            "A96ELROLQRPAE ['B005J0LGOA', 'B0059DLLJC']\n",
            "A27B1U3OWCU14J ['B005IMB5SG', 'B0007WWAGI', 'B002BH3I9U']\n",
            "A34UVV757IKPVB ['B003ZBWLW6', 'B004EHZUYG', 'B008D57412', 'B00GAQ8938', 'B009F4XM48']\n",
            "A238UHATX4CC20 ['B0053O859G', 'B0096L2UDY', 'B0055S2F2I']\n",
            "AVHN134ADVP4R ['B005FPT380', 'B000S5Q9CA', 'B005G0DEG6', 'B000TI6LLK', 'B00COAGXV4']\n",
            "ACO3U8DT64IV6 ['B00DGBAEDI', 'B00702SJVS', 'B004TIZX6U', 'B0091K0ROY', 'B005KPF59Q']\n",
            "A2YI4WRHX5F74S ['B00FNDXO0M', 'B005G22I9S', 'B00CAHYBJW', 'B0052E4SXY', 'B00F6YYANI']\n",
            "A18K1ODH1I2MVB ['B00H3IBEGG', 'B009ABEA7E', 'B00CA6BFLK', 'B00AECECGW', 'B005REYOKQ']\n",
            "A1UF916ZTG6VM5 ['B006MK0ZD4', 'B00752D972', 'B0042GI1BI']\n",
            "A2G563AC1HME2R ['B00IMZKDOS', 'B005SUHPO6', 'B009ANUM9C', 'B002T8GSC0', 'B0044TM0OC']\n",
            "A3CSZGXOQMPY3P ['B0073FCPSK', 'B009F25Z6S', 'B006FA6YWM', 'B005HBGXR6', 'B005MUQAEI']\n",
            "A1N5FSCYN4796F ['B0052YFYFK', 'B0009SA35K', 'B004QWOSLK', 'B0007WWAGI', 'B002M3TLLC']\n",
            "A3BTNXS43GTZDS ['B009UIVBBA', 'B007FH716W', 'B00CGVF73Q', 'B00A82U7CG', 'B000I8ACMU']\n",
            "A2QA9IR0FKHS2Z ['B005MD9PPG', 'B0041EOB42']\n",
            "A108BE4UU6EELV ['B009VK3JKS', 'B00JUH1DG4', 'B00FEZAN12']\n",
            "A2NOW4U7W3F7RI ['B00F7CW1BC', 'B00HZWJGS8', 'B00B1UQBGA', 'B00HHEAMXC', 'B009PLBLQC']\n",
            "ATEN35KM5E9KZ ['B00A8RUZEG', 'B00AJSCKWO', 'B00DHOLQE0']\n",
            "A3KO6JEVS1FJ8X ['B00FAADBHO', 'B0091XI1SU', 'B0091V930W', 'B009HK30V0']\n",
            "A2QRXQPHDMFCQV ['B000FL9QGI', 'B001713AAI', 'B00AQUO5RI', 'B00ENZRQ96', 'B009A5206S']\n",
            "A2APEXAV5RMO4J ['B0084F4HY8', 'B00EZD91YO']\n",
            "A2J8T58Z4X15IO ['B001GD87QO', 'B009KY5JA8', 'B00IL7BG98', 'B00F9VRNF0', 'B00C6OMGBE']\n",
            "A2YCJLGW2QQIOW ['B0040Q25RQ', 'B003MZQQIA', 'B0053O8L2W', 'B003UC93WQ']\n",
            "A680RUE1FDO8B ['B001LRPN0S', 'B005T0DTOU', 'B009VOISGY', 'B005GGBYJ4', 'B003XDU0AQ']\n",
            "A12DQZKRKTNF5E ['B00FAADBHO', 'B00AW2QT8I', 'B00C96CDBM', 'B00DVPEWUU', 'B00F4EONR8']\n",
            "A3OXHLG6DIBRW8 ['B003SNIR7Y', 'B0085OB0IE', 'B004LOBXZ2', 'B009R5Y726', 'B001GLNOPA']\n",
            "A3I0I0YHZB013F ['B0088U4YAG', 'B000XQGJUG']\n",
            "A39TF3CW0JEK3H ['B009NLTW60', 'B00I3UWGVA', 'B00BGG5LO2', 'B003QXNA28', 'B00DYTCV24']\n",
            "A3094EPI56GKZ6 ['B003XCCYV0', 'B004MCJBJI', 'B007V61ZIC', 'B007FH716W', 'B00466HPZM']\n",
            "A2WLNSZ9U0T1S3 ['B00D37M31Q', 'B004MCJBJI', 'B0002OKCXE', 'B001K9HQ4I', 'B002M3110G']\n",
            "A5BLV01VM52V7 ['B005EVPFZ0', 'B005BYSV7O']\n",
            "A2R99I2RXNYT8A ['B00BLY29CG', 'B008ATXQWM', 'B00B0KRS36', 'B00CBQEAHU', 'B00A8ZEG0C']\n",
            "A3E11WHSG52T0M ['B00AGA6FLC', 'B005XOVKMA']\n",
            "AN65KG18M4SDN ['B00II0M68I', 'B00IO1Y4HW', 'B00JLL8DMG', 'B00GWMTSRQ', 'B00IAUK3XQ']\n",
            "A1RH2DW9AXTDXF ['B006CBH0QI', 'B006BEUV4E', 'B007MPFV3C', 'B0097CZF5C', 'B005SICXYK']\n",
            "A3EM243NDJ4DF3 ['B00GN6SC7I', 'B005FPT380', 'B00GLM3328', 'B002VPE1OI', 'B00ANALDWQ']\n",
            "A3U5AH9C1Z7XGF ['B00DY6KZ2A', 'B009PFIR9M', 'B005FEP6GE']\n",
            "A2W3WLQ1KRO0Q8 ['B005LFXBJG', 'B008LE7XD4', 'B009CE526W', 'B004QOA93E', 'B00FW1UAAC']\n",
            "ARQNRSG94VDEX ['B0090DDUG4', 'B004P5SR42', 'B00B2UUZ3E']\n",
            "A2HRHF83I3NDGT ['B00CE3IC74']\n",
            "A108EEYSHGDL6O ['B00CHHIBY6', 'B006RO5Q8O']\n",
            "A34CSXOGVYF94S ['B00D64PN36', 'B00FQVNYR4', 'B00JDAIMQ2', 'B00BWG4TUI']\n",
            "A3K8A8SCFFKB4Q ['B003L18Z8E', 'B008HA3XRW', 'B009VOISGY', 'B005DOTWSY', 'B008BSODU6']\n",
            "ADBTPCJ939VUZ ['B005SULVIC', 'B00AFSK28M', 'B008MTJP9S']\n",
            "AVRD4NZFOC2G1 ['B008965QF6', 'B00846JZJ4', 'B00D41CYOW']\n",
            "A1FP0EXQCFS0LD ['B008D4X4GW', 'B007C5S3AU', 'B008JI4WJ0', 'B008PXMWIW']\n",
            "A15KU8OOCR6VBC ['B00C7FY7Z0', 'B00ARAO478', 'B00AM3V9ZA', 'B003XW8UPO']\n",
            "A3GBET6SMQUF4X ['B00634HDXE', 'B00578HQAW', 'B00A8HT0H4', 'B004WOBMJ8', 'B00505S2RI']\n",
            "A1489YOQZ2NJLR ['B005SUHRVC', 'B006PUSYBQ']\n",
            "AV2QEVD6YF42H ['B007VCRRNS', 'B003X26V50', 'B004Z90V88', 'B005MWCT96', 'B004343W5E']\n",
            "A1KXJYQFHA5XMN ['B008MQ1F1W']\n",
            "A1TUKJZG4RTVKW ['B0097BPD0A', 'B00AVTHHWO', 'B00CZHCP4K', 'B00ESTS4BG', 'B00BI4X8R4']\n",
            "A1TF8PPKYADW21 ['B0059DLLJC']\n",
            "A3FF6CWXBMKJHF ['B00C4MG9I4', 'B00CUU6K5M', 'B00IIWKQX8']\n",
            "A3S3R88HA0HZG3 ['B00F7ALJTY', 'B00BT1BQEI', 'B003DTLV8K', 'B00APEG8NE']\n",
            "A3AOT7YGN8UOR2 ['B008MQ1F1W', 'B002VH9GTG', 'B005I2VWCU']\n",
            "A11LC938XF35XN ['B00JV1GLTI', 'B00JQKCVV6', 'B00JGAEH3Q', 'B00JMO1V3A', 'B00JLW4RU2']\n",
            "A2925ZY5GWRGME ['B009SD2F4O', 'B00ACE4IRA', 'B003FWITBM', 'B00CX4PCH2', 'B006W0DC6Q']\n",
            "AB1ZV60WX05M6 ['B003UC93WQ', 'B0058TZJU4', 'B00871Q5S0']\n",
            "AJV7A47MO861 ['B00C96CDBM', 'B005BUD2KE', 'B0057K6EVC', 'B00D9AREZC', 'B00280QJFU']\n",
            "A1FT98A06ZE4EQ ['B003XRP72S', 'B009LULYGE']\n",
            "ABQCX7PN8VGK6 ['B00GWRNJH6']\n",
            "ATSVUBE2115N1 ['B001UB279A', 'B007NFVGK8', 'B005GW3H16']\n",
            "A2VNXY3VL7GT73 ['B005AOKW8Q', 'B008LFTCAK', 'B00659JKPG']\n",
            "A5JLAU2ARJ0BO ['B00C6PDG94', 'B00E81MQQS', 'B0009F1ST8', 'B00008O394', 'B0003RA29O']\n",
            "A182BL642WB691 ['B00COVM2UO', 'B0095KJDEU', 'B003B1ZWY4', 'B00FQPGAHG']\n",
            "A2XIOXRRYX0KZY ['B00KJLMBQQ', 'B009A51Y1U', 'B0094CX4KS', 'B009WO3H3M']\n",
            "A2E7CF67MQ982Q ['B00D1A37OM', 'B005FYHRY8']\n",
            "A1B4A3SUPMPOTH ['B006GZITVA', 'B005QYPP7I', 'B00BCG3094']\n",
            "A23NSKTMSPPBTR ['B00E2TT8W6', 'B00FAADBHO', 'B004I6F3E0', 'B00A533DWO', 'B008TLQ5RY']\n",
            "ARIAOTUOVT8RV ['B008GYZSEA', 'B000SMXLYC', 'B008O1A4KI']\n",
            "A32LX4XJ2LU740 ['B004G1L52Q', 'B00I5WEZ06', 'B0042U9AT6', 'B004E10KFG', 'B0088LYCZC']\n",
            "A3COH1RFQRA1FX ['B0094G44PS', 'B0093QER4C', 'B0015RB39O']\n",
            "AWHZOUIQ0VO7M ['B00FAX1QZA', 'B00JV1GLTI']\n",
            "A2LI8L6O4M0G1K ['B008DJIGR4', 'B0089F2ILM', 'B00B0Q8NDY', 'B00GAQHHEA', 'B00F3KP156']\n",
            "A1TPW86OHXTXFC ['B00AANQLRI', 'B00B1GB58I', 'B00EDB938C']\n",
            "A3NEAETOSXDBOM ['B00E08OEGY', 'B00JXBVE2K', 'B000NKCO5Q', 'B003RFG87E', 'B00AA1PQNA']\n",
            "A1IO9HRIA7ZJGU ['B006ZGP602', 'B007UOKQJO', 'B005VNK7T0', 'B00GM4U5PS', 'B003SHR7Y4']\n",
            "A1MDBCJA0AH3OT ['B00ENOAYVY']\n",
            "A15QYHQH80W30L ['B004MUMHZ0', 'B0061QDXPG', 'B004F44QO8', 'B007C8XRJY', 'B009AB557I']\n",
            "A1PI8VBCXXSGC7 ['B00FAADBHO', 'B00CLDD4PC', 'B00BUBR498', 'B00HMVPH58', 'B00ATPP11E']\n",
            "AZK7ENEUWO3KK ['B008OAH222', 'B00F8P9UFS', 'B009RFC4IU']\n",
            "A35N8F5V2PELR9 ['B00HI3HQWM', 'B00GN6M85K', 'B00D64PN36', 'B00GJYJFKM', 'B00E327OIM']\n",
            "A1Q11LLRVH4GAC ['B00CDWTQD0', 'B004I8WD6E', 'B00CBTTA4A', 'B00871Q5PI', 'B00CS6X1EQ']\n",
            "A26FD4U2SMC52A ['B005HBAJ1C', 'B002BSO4ZG', 'B0054YV7O0', 'B0097BEG1C', 'B004I58ZVY']\n",
            "A2867OIBOFEZ0A ['B0030I3NZS', 'B0015A4V0E']\n",
            "A3JU16JTNLVK1J ['B0030C4K8I', 'B00424NL7Y', 'B003OGKCJ6', 'B002FFG6JC']\n",
            "A3PDNN5MJF9ZJ0 ['B003UWDWY6', 'B009M5LA12', 'B00AYPEL56', 'B00BITDU36', 'B00574S96G']\n",
            "A3V1A3C9DTLPME ['B00FQVNYR4', 'B004GVIZC4', 'B00EVF3FCU', 'B00EZ71LM0']\n",
            "A14MJWI09JEK1A ['B00AXJKKA8', 'B00E486Q9I', 'B00IX307N6']\n",
            "A4WEZJOIZIV4U ['B005SUHRVC', 'B00DWKK6PE', 'B00FH6QTJ8']\n",
            "A1TJ60Y7ZBO4EK ['B0069Y3AS0', 'B0059YUR96', 'B0069Y5QVE', 'B008TOSOJI', 'B0069Y1YT2']\n",
            "A1US87X5YUEQ7A ['B005IM9YCA', 'B001GJECR6', 'B003UESOGA', 'B0009B0IX4']\n",
            "A30QZ5R9QCT2C9 ['B005NC86BU', 'B009OUGH22', 'B0073HFFM6', 'B008APH5D2']\n",
            "A20OBCQWBKCGZT ['B005G2U80O', 'B009T0NIXS', 'B007VL90QG', 'B00FEPDRF6', 'B009WO3H3M']\n",
            "A1YNOLPAF4I0PJ ['B008MQKWC0', 'B009T003FY', 'B00CA6BFEW', 'B00B0KS6GE', 'B008APDZZO']\n",
            "A2C66ZWC2V5FES ['B00E327OIM', 'B0033A2X6I', 'B00DZPYG52', 'B005147AM6', 'B00DCXWBMM']\n",
            "A6LAVUGY6HU9G ['B0048NVI5Q', 'B006BEUV4E', 'B009D6ZOTE', 'B008V3WDMQ']\n",
            "A2SNHNNHXZRMAC ['B00A21L33K', 'B009RFC4IU', 'B009ZW6HE2', 'B009POVT1Q', 'B009KA79BO']\n",
            "A1AGIP0FLI2VZW ['B003M2Y3UQ', 'B002OK73DG', 'B00C6AUENU']\n",
            "A3QJU4FEN8PQSZ ['B00H2RP6W6', 'B00DIOALPE', 'B00ENZRQ96', 'B003Y3BEUU']\n",
            "A2CSUBM1565NGH ['B00FAADBHO', 'B00D64PN36', 'B00ASJMY3E', 'B00EZ71LM0']\n",
            "A2JBWGFRJ05Z8D ['B005XYU45E', 'B009ESF2L6', 'B004P8JL76', 'B007OVHW2M', 'B005BE0BNQ']\n",
            "A2O421DTA8J0RW ['B0076Z3FSQ', 'B008618CKK', 'B0049SKIDI', 'B007SJOQSS']\n",
            "A3TAS1AG6FMBQW ['B00KGU9UHS', 'B007R28B50', 'B00D4ABOZS', 'B00DFN03KQ', 'B007R29HVC']\n",
            "A9DW3IODLLHJG ['B0044WTQVE', 'B004GVYXP2']\n",
            "A13LHBUYIK9TMC ['B00IO1Y4HW', 'B00H0Q31SA', 'B00IR57TLS', 'B00JGAEH3Q', 'B00J2FHXGI']\n",
            "ABVYGB2TKBO8F ['B00849E1CM', 'B008H34ZQW', 'B003MX0S18', 'B008HTJLF6', 'B002WTC1TK']\n",
            "A2D1LPEUCTNT8X ['B0088U4YAG', 'B008TXFPS2', 'B006ZRYU9O', 'B00CJCKIXG']\n",
            "AEL6CQNQXONBX ['B005IMB5NG', 'B00DFN03KQ', 'B009T0NIXS', 'B00I0DL2OC', 'B00EVYGGY0']\n",
            "A1ZZ85SS43PCDJ ['B006LCEMCI', 'B006H4DP8W']\n",
            "A2WZNM833CJH82 ['B00G6H5N7Q', 'B00GMOJVOY', 'B00ISDBQZ4']\n",
            "A2F8E1X2K7AUBX ['B005HBAJ1C', 'B00212HNA0', 'B006U2NNBU']\n",
            "AGVWTYW0ULXHT ['B00BT0AKKU', 'B00B4FG068', 'B00FX6LRG2', 'B00BUBR498', 'B0098WEGXS']\n",
            "A1T9E0H192HPKB ['B004G7BKFC', 'B0097BPD0A', 'B007FHX9OK', 'B008FONF4Q', 'B009BXL6ZK']\n",
            "A1A535TCGNMVPI ['B005G2U80O', 'B00EOEBL3S', 'B000QSPO3Y', 'B001GD87QO', 'B0098QUGHY']\n",
            "A9QZ4MHIWDGJM ['B003Y63FIG', 'B007PY5MO8', 'B006STIRXY', 'B003SYCFOE', 'B003ZM114Y']\n",
            "A22SY0Z6MEVGM9 ['B00F6SPYJS', 'B0015O8PSY', 'B007XPPA28', 'B00GG27IC4']\n",
            "A3TP31S61PPE3G ['B008OHNZI0', 'B00GBFQWEG', 'B00974L0EA', 'B00E327OIM', 'B003NA0658']\n",
            "A2A4L5O8BRFG1V ['B0009W8DKI', 'B0030VENLS', 'B009OKZ62O', 'B00FIFBIIK', 'B00FHVGEQ6']\n",
            "AGZNYIYVLFV77 ['B004Y8Y24Y', 'B0089VO7OM']\n",
            "A7EU2BWLLCJY2 ['B00IX2VGFA', 'B00BT1BQEI', 'B008Z8NXYE', 'B00GMOJVOY']\n",
            "A2P68VRKQMYBDE ['B000227PL8', 'B008RQ10VC']\n",
            "A2503LT8PZIHAD ['B006G7Z6VY', 'B000WPDI2K', 'B000YCAH8Y', 'B007CA38J6', 'B009B95R7W']\n",
            "ARMOHDK3K87AL ['B005CRPU74', 'B00CTIPHFO', 'B0057B34UA', 'B005C20U5G', 'B007VOM0R4']\n",
            "ASWI06LU5KKDF ['B007P84VGY', 'B000KNJEV8', 'B0046UQK36', 'B006IX3G86', 'B0049PQMPY']\n",
            "AFY7OE2CYFZAE ['B006CAW1Y0', 'B0040Z1EHY', 'B009C6WKDI']\n",
            "ALXDCS16EP3ZR ['B005XHVWGQ', 'B0074RE1Z2', 'B0015RB39O']\n",
            "A3LQUEB84IR3VO ['B0065PGWQ0', 'B00AXJKKA8', 'B009E87SD6', 'B00BT7RAPG']\n",
            "AGA9831VH03YG ['B00FQPGAHG', 'B007PZMD7G', 'B007CN6R5K']\n",
            "A36K2N527TXXJN ['B00IX2VGFA', 'B002VPE1NO', 'B00E2TT8W6', 'B00DV1KFBY', 'B005LVU37S']\n",
            "A17YBCQHZTGUM9 ['B00AHZRKCO', 'B005X1QGHC', 'B006SBR4TK', 'B008CEQVP4', 'B009AAAF7O']\n",
            "A1ES2Z4ZX6IWBK ['B004VFKANM']\n",
            "A3AVD6J42P43VH ['B00404UR3C', 'B005QDL60E', 'B0085QYDQI', 'B004BH8QWW', 'B00404UN6S']\n",
            "A3E9WG5BEAFF3T ['B00GLIBGW6', 'B00HR1TZ92', 'B00FQVNYR4', 'B00GL4B2JC', 'B00E2YI052']\n",
            "A2KBN2H1OENA7E ['B008D6HKU6', 'B003ZMN54S']\n",
            "A390XPHE9J7DBO ['B00JLWFQHU', 'B00KCZO2WK']\n",
            "A3G5MOHY1U635N ['B0043M668G', 'B000M92GLK']\n",
            "A1KYWCVC2KW5YZ ['B009X25Z10', 'B00B1G8FDQ', 'B003DZ13P0']\n",
            "A2J4XMWKR8PPD0 ['B0093IHVJI', 'B005MZ1IHW', 'B0023D4ZQC', 'B00AHED2FE', 'B004I51H6Y']\n",
            "A27QXQQOLAMRRR ['B00I58VAZS', 'B007L5NKZO', 'B009S4FMAM', 'B00A6WWPAK', 'B005CG2AL4']\n",
            "A38DDM9FUAF4H1 ['B008VUNRZQ', 'B0080YYVH6']\n",
            "A1CSXI7MKL6UKR ['B00HUEJ25I', 'B00IP8V7Z6', 'B00JLQU9DC']\n",
            "A10UCR7QHTF29U ['B008MBSHEK', 'B00788MBWW']\n",
            "A3KPJ1MOGTZVGC ['B003Y74KCK', 'B0040X33SE', 'B002M3TLLC']\n",
            "A2U6HBHYLCPU1N ['B00GS5ULKK']\n",
            "A3E5CFU0IEGPDS ['B00DMKGPP4', 'B00C4CVSFS', 'B00907YCZ8']\n",
            "ALOHSZLI9G7BH ['B002YB4RDY', 'B001LKZNMI', 'B0092TQHP2', 'B004CLYJ2I']\n",
            "A1KWNSRAKVXHMS ['B00JA0ZR3G', 'B006073P40']\n",
            "A1P30K8Q896XVG ['B005AOKW8Q', 'B0044WTQVE', 'B006ZGP602', 'B007QH578U', 'B009M5L97C']\n",
            "A2UTEA9QW087A0 ['B005SUHPO6', 'B001C3LCBK', 'B007VQREFA', 'B009CE526W']\n",
            "A1YPPX7SCBHBDJ ['B00FIFBIIK', 'B008KXIPLK', 'B00GR9X532']\n",
            "A1F9Z42CFF9IAY ['B0002WRGHG', 'B00081GX8O', 'B0006GFARG', 'B0009B0IX4', 'B00CO3HCSY']\n",
            "A2RH40BEAX3V8P ['B0058V0YZW', 'B005L5TIUW']\n",
            "A3L9E0YI7C5G0W ['B00974L0EA', 'B00DII7CJ8', 'B009NED5E2', 'B008AST7R6', 'B0007PLXS6']\n",
            "A5DSA6ADJYI5Q ['B009A5204K', 'B0045TJA62', 'B007AMR8TW']\n",
            "A3RDS0DJ5EJGA7 ['B004G1L52Q', 'B009KY4ACG', 'B002AU6XH2', 'B00GVA3BS6']\n",
            "AN81JUYW2SL24 ['B0085JRQG4', 'B000S5Q9CA', 'B009KY4ACG', 'B009FXMVO6', 'B0091UOLYG']\n",
            "A1W415JP5WEAJK ['B00CPK7U60', 'B00B1UQBGA', 'B00EUUDUKI', 'B00F8P288Y', 'B00H269OCA']\n",
            "ARBMBLFBK10XI ['B0085JRQFU', 'B0088LYCZC']\n",
            "A33ARCFLTBBBE7 ['B005LFXBJG', 'B006WVZT3O', 'B008CJBESS', 'B008I6X802', 'B00896N49G']\n",
            "A355M74J438SGG ['B0099FMFSM', 'B008ADY7DK', 'B00JEK6740', 'B007KW0YAW', 'B005XGWSL0']\n",
            "A28Q5CQAOGNUM3 ['B005VD4AHA', 'B004ULZD7U', 'B00AJFK9MK', 'B008DC8N5G']\n",
            "AXGU1QV70M0UL ['B0006B3QY0', 'B0042TY68C', 'B002XZ5CR6', 'B003W0G73Y', 'B005SVLYE2']\n",
            "A1R5IIPU8FBDUD ['B00IELRKHI', 'B004Y1ON6S', 'B00C80S0AC', 'B004PNVNV8']\n",
            "ATOHTIN6PK25V ['B005BUXRUO', 'B008BAUKSI', 'B005J2NHD6', 'B002YGYLA8', 'B004M180HS']\n",
            "A1P8K7Z2MH7N45 ['B00I3ULLNO', 'B003JVG1H8', 'B00I9K3ZQ4']\n",
            "A35UY8DCG2S57T ['B00FNWM2GU', 'B0072O4WWE', 'B00B7QGT6U']\n",
            "A32G4SORK2AE30 ['B009EJ92PC', 'B00861BX7E', 'B009TCUPIC', 'B00IKCI6X8', 'B00ES2BQ7M']\n",
            "A2UEB48LAWFUCW ['B006YJBITS', 'B001DK9LB0', 'B00CXZI7EG', 'B00BWG4TUI', 'B00BYUJL2I']\n",
            "A2FU5LRHY17OY2 ['B00I9KKAHQ', 'B00J9PZGR4', 'B00JLL8DMG', 'B00JQKCVV6', 'B00JGAEH3Q']\n",
            "A3RN0N6TZNJJPJ ['B005SUHRVC', 'B006X7HU02']\n",
            "A27BMIHK0AIWTQ ['B008DJH5HG', 'B004IE76VA', 'B008YSTBBO', 'B003TW9BEM', 'B006PHABRO']\n",
            "A31PONQBE4DLWR ['B00A21L2WM', 'B00AOCSFYC']\n",
            "A39137LW12KK7B ['B00CLDD4PC', 'B00HZWJGS8', 'B008B85DNC', 'B008FBEZDO', 'B004WIQW3U']\n",
            "A33ZYFE8XMKKR1 ['B0088U4YAG', 'B008LM45I2', 'B0007WWAGI', 'B00822XBGI']\n",
            "AU5V90NU1ON6O ['B000WJ8P38', 'B0030BZ7HM', 'B00E38KZKK']\n",
            "A25FDSTIHHAFKX ['B009ZQ9BBE', 'B006DKHRTS', 'B00H2FXSKK', 'B002AQLYCU', 'B008ZCO1QY']\n",
            "A250HHH6LNASFA ['B005VBNYDS', 'B005C31FJA', 'B00B42K5BM', 'B002WB2P4O']\n",
            "A1CMD08Z49PGKQ ['B007R28B50', 'B009T8YXCA', 'B00DJ54NX8', 'B00JCVPTSQ', 'B002USUKOQ']\n",
            "A3A76NG48QQDJT ['B003V2B9EK', 'B003UIPTW8', 'B007PY5PJU', 'B0042QTEIM', 'B004I55PB2']\n",
            "A3A9JIV9V5JAWV ['B008BAUKSI', 'B009JT8IIO', 'B0090CUDSS', 'B00AHSWANA', 'B007R5I8KA']\n",
            "A47A75ILH0M1D ['B009CEMVM0', 'B008PB72OI', 'B00B1MMVWG']\n",
            "A2S8C4QZCBXTIP ['B008DJIGR4', 'B001LLK8FO', 'B008PF1YPW']\n",
            "A64S8V75ITLFG ['B008AGA6PK', 'B00C83SZ86', 'B00CI8L1NC', 'B0089VO7OM']\n",
            "A3LGT6UZL99IW1 ['B007R28B50', 'B0080AWCTY', 'B00H9MVEI4', 'B00DQKU4NO']\n",
            "A357JRXZV8JFN7 ['B008U6PQA0', 'B0090A8RZQ', 'B0098FKJ04']\n",
            "A1RCGK44YXNBBB ['B00074JWH6', 'B000JKKE5M']\n",
            "A3Q4TYJVAM4IRM ['B00A533DWO', 'B00G5K3B46', 'B00E2YI052']\n",
            "A2OBDNQ5ZYU1L8 ['B005SUHPKA', 'B00B10ORM0', 'B00EZ71LM0']\n",
            "A3R5RK752TYZ4Z ['B00CGS7HF0']\n",
            "A360VP3RBMJFDL ['B00BQYEA8C', 'B008AST7R6']\n",
            "AFFVUZEGP1FDQ ['B00FAADBHO', 'B00BN7XNQW', 'B000CORUSO', 'B00276S55M', 'B00E2YI052']\n",
            "A1YEPFLLH42OU1 ['B0073FCPSK', 'B00FFURRYC', 'B004G1L52Q', 'B007UKTB7Q', 'B000HJC56G']\n",
            "A38ZJ2YEQ0AWQJ ['B004KZP4BQ', 'B002F9Z5U4', 'B007ZTMG74']\n",
            "A3R4794K2RVU1S ['B000S5Q9CA', 'B001DQPCR6', 'B003COCPPO']\n",
            "A13BX9O5UDBILC ['B0091DR3O8', 'B0034G4YW2', 'B004E10KFG', 'B0009FCAJA', 'B0047T74VS']\n",
            "A24KCJK5FMAUQD ['B00GGZOJF0', 'B00A8NUTC8', 'B00C9RNP9K']\n",
            "A3EXWV8FNSSFL6 ['B00FAADBHO', 'B00GNVEY0W', 'B003DKL4JA', 'B00FZUM01W', 'B009SAG02A']\n",
            "AUHPGH3JTJDJG ['B009P7PI4M', 'B00400VOJ2']\n",
            "A1FEE54PAZVEKV ['B006YWGMHI', 'B007C8B9JY', 'B0025UZLKW']\n",
            "A2HUXYU0IQOMOB ['B005NGKR54', 'B004SK64LC', 'B005EEO4OK']\n",
            "A6KSBRSUGE2DR ['B000EG4GLY', 'B000WKS8QG', 'B000NGUTUW']\n",
            "A1KRF81GTI2KKT ['B0044WTQVE', 'B0052QRMG2', 'B005EGD2AU', 'B003MIIRM0']\n",
            "A33ONX5UUGH8RR ['B0085BD0Z8', 'B003Z3EDSE', 'B001CJTE0K', 'B005M0J3DI', 'B004B8KSL8']\n",
            "A3A36DP9IJPRPF ['B003115AGY']\n",
            "A2QZP7IMWC3G3O ['B0093IHYRC', 'B008LWXL96']\n",
            "A3HPCRD9RX351S ['B00934CMGE', 'B00CJRZ31S', 'B00E4CX5XO']\n",
            "A2WXURU33RBGQS ['B001QXDSN6', 'B000FFRYTK', 'B001PBWNOY', 'B009VJ4VOM']\n",
            "A2CIQ4VXTSDAD3 ['B003WRBGCY']\n",
            "A14GKTYL0UEC0U ['B007KOAX9C']\n",
            "A2NPXTU9EH6GKR ['B0088LT7IE', 'B00AHXGHHK', 'B007RPLKAK']\n",
            "A5L6UC0CZC480 ['B0089E283G', 'B00A567462', 'B0051UH9Q2', 'B00B1YORIU', 'B004C2X680']\n",
            "A149RNR5RH19YY ['B000HCQKTG', 'B000E14G7S', 'B003DIHP0Y', 'B001DETCUG']\n",
            "A14RPY0DV96EG4 ['B00AIEGXKE', 'B00BTHZUKI']\n",
            "A371HJIMDXGYTA ['B007HBOP5G', 'B00D2RNHKI']\n",
            "A1TBTJ8PU087LJ ['B00B9G1184', 'B002F9VK30', 'B00HTK5U9K', 'B0093IHWPQ']\n",
            "ADOR3TR7GDF68 ['B00E45043A', 'B00DYTCV24', 'B004H1R88A', 'B00A1Z3U3S']\n",
            "A1TQZUSOU22E9M ['B00E327OIM', 'B00F5NE2GU', 'B0095P2F1S', 'B005OW4AWS', 'B0092MD8OW']\n",
            "A1CPRP3VFJRS1R ['B004003HAG', 'B0006HES2I', 'B0031MA0UO']\n",
            "A1BKZVPG946QQG ['B00HIYHQ1M', 'B00GAQHHEA', 'B00IY8S4JO']\n",
            "AQIJ3ZEEVCIKU ['B00D2ZQ6ZI', 'B003E3HPD0', 'B006ZPCQBA', 'B00IL7B2YM']\n",
            "A5YTGBQJ6Z2EO ['B004T6MMZM']\n",
            "A1CHMOMB1OIU7M ['B00550D9MG', 'B005NFVLAU']\n",
            "A2Y33PMFKII0VR ['B003UXCB5Q', 'B008YJ8BC8', 'B003NBTU2M']\n",
            "A3H0DIOS8X1I3L ['B00DN0KBXU', 'B00ELCP55I']\n",
            "A23AHRKVZEB2EG ['B005SUHPO6', 'B0059KTEBC', 'B003V2B9EK', 'B005VNJH7I']\n",
            "A173MU1A9C34KZ ['B0093QERD8', 'B008N7TTLS', 'B006LFXEP6', 'B005EGD2AU', 'B00400VOJ2']\n",
            "A10NMELR4KX0J6 ['B004M8ST18', 'B004TBY6YW']\n",
            "A2A1ZQMSPAX5B7 ['B00DUAOZU8', 'B009CEZGKE', 'B008S16BU6']\n",
            "A3OFBQ787NMRLP ['B00B0FYHUI', 'B00DVEH1QI', 'B009OZWQRM']\n",
            "A1VQHH85U7PX0 ['B000RYSU7O', 'B008M11Y8Q']\n",
            "AM7U4FXXNE02I ['B00C0R3UOO', 'B00G200KQQ', 'B00D6437TS', 'B0098FKHBU', 'B00G3P7HN4']\n",
            "A3LBTC13EYE4MS ['B00DZUBT8E', 'B00HQZU8G8']\n",
            "A3SQQYS79AV13M ['B00GLIBGW6']\n",
            "A38US3BI4PEJ5O ['B000F7VBUQ', 'B00461MG5G', 'B0074R14TI', 'B004ZL9IZI']\n",
            "A1F1A0QQP2XVH5 ['B00FH669I4', 'B00C6Q4JL2', 'B00AIQHQZS', 'B00DIOALPE']\n",
            "AOVTLYTHVDNUX ['B0093IHVJI', 'B00D64PN36', 'B00GDQ6DG0']\n",
            "A3QDMDSANPYGUX ['B009E87SD6', 'B008PNJD52']\n",
            "A2V5M5EJPOD2IU ['B008MOHLVC']\n",
            "A6VPK7X53QNAQ ['B00IDI70SQ', 'B004YZI1T4', 'B0002WRGHG', 'B008KPW07I']\n",
            "A2ME89MSWVG9NF ['B004CLYIZQ', 'B009A51Y10', 'B00F93IOR4']\n",
            "A2BMZRO0H7TFCS ['B004KPLLJA', 'B004KPLA9Q', 'B00H2RP6W6', 'B00DG8NI5C']\n",
            "A2XOV3ZKGDK55G ['B00ISFNSBW', 'B00E327OIM']\n",
            "A3L93XLCOO8U49 ['B008BR4L2W']\n",
            "A3MZPVMI5A124D ['B00931TYB8']\n",
            "A3L0BQ3IYIAUB1 ['B005GJCHVA', 'B007IXLQ7S']\n",
            "A1XWFD27U8FXQK ['B003VYB94I']\n",
            "A2R19ZZ15ZFFBD ['B003WLWXH2']\n",
            "A4D5B7Q8A7PA6 ['B00ANALDWQ']\n",
            "A2OEIJI44N3V3U ['B002BDU7UM', 'B00074V0JY', 'B005EENV3A', 'B008DH4KQW']\n",
            "AO99NCXD14O7Y ['B004S3CSIC', 'B009UNGYIU', 'B004CQ0IX2', 'B00A7BDAWC']\n",
            "A1V3TRGWOMA8LC ['B00GN0AO34', 'B002UKTABI', 'B00EOYOF36']\n",
            "A37XJZF145XH5B ['B000O7ERDU', 'B000YLYRF4', 'B002ITKQKU']\n",
            "A2O9NU8P1PHZMY ['B005AKK68G', 'B003ZWSHSW']\n",
            "A1EV8SSPUSUI66 ['B001LKZNMI']\n",
            "A2PYPBC4IFAGXU ['B004XXMJV8', 'B009VSJMGA', 'B00C5X4146', 'B0081V55SM']\n",
            "A3NQLKUNEG474M ['B0085O4OKK', 'B00F0D67Z4', 'B008AKLWN6', 'B00DD2J1DY', 'B00893H9N6']\n",
            "A359BUR4XEI0AR ['B00AHSW9UY']\n",
            "ABDDX2PV61RMX ['B00B7DV78S', 'B001B38LUG', 'B005JHLIBE', 'B004WXC4P0']\n",
            "A3IKA9SP1N0BSK ['B005SUHRVC', 'B0044ULDTE']\n",
            "A2V9DTXTQ5YIMK ['B005FPT380', 'B004LYOJRQ', 'B001DZ7AF4']\n",
            "A1B2T9CD4E2OB5 ['B008DJIIG8', 'B00DRJTY44', 'B0079VMD76', 'B0093QER4C']\n",
            "A1Q1Z7IR79G52A ['B00KCZO2WK', 'B00JLL8DMG']\n",
            "AOEAD7DPLZE53 ['B00DUEC3UI', 'B00BJDQALA', 'B00GRQ8AQM']\n",
            "A1SAOJ2WPUUBC5 ['B006WJ32AI']\n",
            "A2RIG0KLVMX2MS ['B005NC86BU']\n",
            "A30J7WQV0ZNRXG ['B0093IHVJI', 'B009APBY10', 'B001AVXZ50', 'B009G5T9LG']\n",
            "A7C1NWHUFQ44S ['B005IM9YCA', 'B00C3H8WLW', 'B004BW74DO', 'B0067OZ6X4']\n",
            "A1KZ00LNIB25RR ['B005SUHRVC', 'B008HF9VQ4']\n",
            "A3BHAEU1HK5FO8 ['B00DD2J1DY', 'B008F16J88']\n",
            "A17OXGC7BFQMYD ['B00AXJKKA8', 'B001C8EXZW']\n",
            "A1FX8395321MMU ['B0058RWQFW', 'B007OSGDCK', 'B00871T3UW']\n",
            "A1E0QRXKP9DKIF ['B006TO5DR6']\n",
            "A3QJGC6TBUW6BB ['B00C1SC0WK']\n",
            "AGR1V15L6FLMA ['B00C5SMPA8', 'B00ENNMI0K', 'B00E0L42LI', 'B0028OCEN2', 'B006BBK46M']\n",
            "A3V7D0LH8L7BG0 ['B00CIRLJPI', 'B001APH9GW', 'B009A51Y10']\n",
            "A5A4374R8I7NB ['B0041I76H2', 'B005XA0DNQ', 'B0060E7378', 'B004QIY7V0']\n",
            "A1ZZEO07YMRKE9 ['B00AYA353K', 'B009PRYNNY', 'B009I6WSG6']\n",
            "APT8KT26KZZHN ['B0043EV20G']\n",
            "A3LZA698SQPCXE ['B00F8OYPUO', 'B00BY5GVPI']\n",
            "A1Z3598J0371ND ['B007STY8HM', 'B005MKERVQ']\n",
            "A1V1XYVN6XK1QC ['B005LTO0O2']\n",
            "ARIDN94LOCQFD ['B005BUXRUO', 'B00APLOM62']\n",
            "A3FPSY1M6G7XIB ['B00I3ULRKQ']\n",
            "AR3UP8Q9L3K3N ['B002HJ9RRY']\n",
            "ABH741JTXOZZN ['B00BW6GH76']\n",
            "A3E049PVKG7NDK ['B00GHME0RE']\n",
            "A3V79KXIY09MOE ['B0040Z1EHY']\n",
            "AN1MS7QNQT2WL ['B00CKZW33U']\n",
            "A1UWSU5ETQRQKX ['B00H3YIFZI']\n",
            "A2Z6XO1UGTG9IY ['B001L82JQS']\n"
          ],
          "name": "stdout"
        }
      ]
    }
  ]
}